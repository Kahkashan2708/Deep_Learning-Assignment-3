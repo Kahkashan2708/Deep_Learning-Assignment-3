{
 "cells": [
  {
   "cell_type": "markdown",
   "metadata": {},
   "source": [
    "# Question-2"
   ]
  },
  {
   "cell_type": "code",
   "execution_count": 1,
   "metadata": {
    "execution": {
     "iopub.execute_input": "2025-05-20T12:12:51.834669Z",
     "iopub.status.busy": "2025-05-20T12:12:51.834389Z",
     "iopub.status.idle": "2025-05-20T12:13:02.105457Z",
     "shell.execute_reply": "2025-05-20T12:13:02.104845Z",
     "shell.execute_reply.started": "2025-05-20T12:12:51.834642Z"
    },
    "trusted": true
   },
   "outputs": [
    {
     "name": "stderr",
     "output_type": "stream",
     "text": [
      "\u001b[34m\u001b[1mwandb\u001b[0m: Using wandb-core as the SDK backend.  Please refer to https://wandb.me/wandb-core for more information.\n",
      "\u001b[34m\u001b[1mwandb\u001b[0m: \u001b[33mWARNING\u001b[0m If you're specifying your api key in code, ensure this code is not shared publicly.\n",
      "\u001b[34m\u001b[1mwandb\u001b[0m: \u001b[33mWARNING\u001b[0m Consider setting the WANDB_API_KEY environment variable, or running `wandb login` from the command line.\n",
      "\u001b[34m\u001b[1mwandb\u001b[0m: No netrc file found, creating one.\n",
      "\u001b[34m\u001b[1mwandb\u001b[0m: Appending key for api.wandb.ai to your netrc file: /root/.netrc\n",
      "\u001b[34m\u001b[1mwandb\u001b[0m: Currently logged in as: \u001b[33mma23c014\u001b[0m (\u001b[33mma23c014-indian-institute-of-technology-madras\u001b[0m) to \u001b[32mhttps://api.wandb.ai\u001b[0m. Use \u001b[1m`wandb login --relogin`\u001b[0m to force relogin\n"
     ]
    },
    {
     "data": {
      "text/plain": [
       "True"
      ]
     },
     "execution_count": 1,
     "metadata": {},
     "output_type": "execute_result"
    }
   ],
   "source": [
    "import wandb\n",
    "wandb.login(key=\"fb4c8007ed0d1fb692b2279b11bb69081f2c698d\")"
   ]
  },
  {
   "cell_type": "markdown",
   "metadata": {},
   "source": [
    "### Import libraries"
   ]
  },
  {
   "cell_type": "code",
   "execution_count": 3,
   "metadata": {
    "execution": {
     "iopub.execute_input": "2025-05-20T08:14:15.586051Z",
     "iopub.status.busy": "2025-05-20T08:14:15.585610Z",
     "iopub.status.idle": "2025-05-20T08:14:23.146785Z",
     "shell.execute_reply": "2025-05-20T08:14:23.145908Z",
     "shell.execute_reply.started": "2025-05-20T08:14:15.586026Z"
    },
    "trusted": true
   },
   "outputs": [],
   "source": [
    "import numpy as np\n",
    "import pandas as pd\n",
    "import torch\n",
    "import torch.nn as nn\n",
    "from torch.utils.data import DataLoader, Dataset\n",
    "import pandas as pd\n",
    "import wandb\n",
    "from tqdm import tqdm"
   ]
  },
  {
   "cell_type": "code",
   "execution_count": 4,
   "metadata": {
    "execution": {
     "iopub.execute_input": "2025-05-20T08:14:24.843044Z",
     "iopub.status.busy": "2025-05-20T08:14:24.842321Z",
     "iopub.status.idle": "2025-05-20T08:14:24.847991Z",
     "shell.execute_reply": "2025-05-20T08:14:24.847345Z",
     "shell.execute_reply.started": "2025-05-20T08:14:24.843020Z"
    },
    "trusted": true
   },
   "outputs": [],
   "source": [
    "# Dataset utilities\n",
    "class TransliterationDataset(Dataset):\n",
    "    def __init__(self, pairs, input_vocab, output_vocab):\n",
    "        self.pairs = pairs\n",
    "        self.input_vocab = input_vocab\n",
    "        self.output_vocab = output_vocab\n",
    "        self.sos = output_vocab['<sos>']\n",
    "        self.eos = output_vocab['<eos>']\n",
    "\n",
    "    def __len__(self):\n",
    "        return len(self.pairs)\n",
    "\n",
    "    def __getitem__(self, idx):\n",
    "        source, target = self.pairs[idx]\n",
    "        input_ids = [self.input_vocab[c] for c in source]\n",
    "        target_ids = [self.sos] + [self.output_vocab[c] for c in target] + [self.eos]\n",
    "        return torch.tensor(input_ids), torch.tensor(target_ids)"
   ]
  },
  {
   "cell_type": "code",
   "execution_count": null,
   "metadata": {
    "execution": {
     "execution_failed": "2025-05-20T12:01:55.718Z",
     "iopub.execute_input": "2025-05-20T08:14:27.424513Z",
     "iopub.status.busy": "2025-05-20T08:14:27.423782Z"
    },
    "trusted": true
   },
   "outputs": [
    {
     "name": "stdout",
     "output_type": "stream",
     "text": [
      "Create sweep with ID: vntbxx0z\n",
      "Sweep URL: https://wandb.ai/ma23c014-indian-institute-of-technology-madras/dakshina-transliteration/sweeps/vntbxx0z\n"
     ]
    },
    {
     "name": "stderr",
     "output_type": "stream",
     "text": [
      "\u001b[34m\u001b[1mwandb\u001b[0m: Agent Starting Run: luwmjfms with config:\n",
      "\u001b[34m\u001b[1mwandb\u001b[0m: \tbatch_size: 16\n",
      "\u001b[34m\u001b[1mwandb\u001b[0m: \tbeam_size: 3\n",
      "\u001b[34m\u001b[1mwandb\u001b[0m: \tcell_type: LSTM\n",
      "\u001b[34m\u001b[1mwandb\u001b[0m: \tdropout: 0.1\n",
      "\u001b[34m\u001b[1mwandb\u001b[0m: \tembed_size: 64\n",
      "\u001b[34m\u001b[1mwandb\u001b[0m: \thidden_size: 64\n",
      "\u001b[34m\u001b[1mwandb\u001b[0m: \tlr: 0.006613015850178118\n",
      "\u001b[34m\u001b[1mwandb\u001b[0m: \tnum_layers: 2\n"
     ]
    },
    {
     "data": {
      "text/html": [
       "Ignoring project 'dakshina-transliteration' when running a sweep."
      ],
      "text/plain": [
       "<IPython.core.display.HTML object>"
      ]
     },
     "metadata": {},
     "output_type": "display_data"
    },
    {
     "data": {
      "text/html": [
       "Tracking run with wandb version 0.19.9"
      ],
      "text/plain": [
       "<IPython.core.display.HTML object>"
      ]
     },
     "metadata": {},
     "output_type": "display_data"
    },
    {
     "data": {
      "text/html": [
       "Run data is saved locally in <code>/kaggle/working/wandb/run-20250520_081434-luwmjfms</code>"
      ],
      "text/plain": [
       "<IPython.core.display.HTML object>"
      ]
     },
     "metadata": {},
     "output_type": "display_data"
    },
    {
     "data": {
      "text/html": [
       "Syncing run <strong><a href='https://wandb.ai/ma23c014-indian-institute-of-technology-madras/dakshina-transliteration/runs/luwmjfms' target=\"_blank\">cosmic-sweep-1</a></strong> to <a href='https://wandb.ai/ma23c014-indian-institute-of-technology-madras/dakshina-transliteration' target=\"_blank\">Weights & Biases</a> (<a href='https://wandb.me/developer-guide' target=\"_blank\">docs</a>)<br>Sweep page: <a href='https://wandb.ai/ma23c014-indian-institute-of-technology-madras/dakshina-transliteration/sweeps/vntbxx0z' target=\"_blank\">https://wandb.ai/ma23c014-indian-institute-of-technology-madras/dakshina-transliteration/sweeps/vntbxx0z</a>"
      ],
      "text/plain": [
       "<IPython.core.display.HTML object>"
      ]
     },
     "metadata": {},
     "output_type": "display_data"
    },
    {
     "data": {
      "text/html": [
       " View project at <a href='https://wandb.ai/ma23c014-indian-institute-of-technology-madras/dakshina-transliteration' target=\"_blank\">https://wandb.ai/ma23c014-indian-institute-of-technology-madras/dakshina-transliteration</a>"
      ],
      "text/plain": [
       "<IPython.core.display.HTML object>"
      ]
     },
     "metadata": {},
     "output_type": "display_data"
    },
    {
     "data": {
      "text/html": [
       " View sweep at <a href='https://wandb.ai/ma23c014-indian-institute-of-technology-madras/dakshina-transliteration/sweeps/vntbxx0z' target=\"_blank\">https://wandb.ai/ma23c014-indian-institute-of-technology-madras/dakshina-transliteration/sweeps/vntbxx0z</a>"
      ],
      "text/plain": [
       "<IPython.core.display.HTML object>"
      ]
     },
     "metadata": {},
     "output_type": "display_data"
    },
    {
     "data": {
      "text/html": [
       " View run at <a href='https://wandb.ai/ma23c014-indian-institute-of-technology-madras/dakshina-transliteration/runs/luwmjfms' target=\"_blank\">https://wandb.ai/ma23c014-indian-institute-of-technology-madras/dakshina-transliteration/runs/luwmjfms</a>"
      ],
      "text/plain": [
       "<IPython.core.display.HTML object>"
      ]
     },
     "metadata": {},
     "output_type": "display_data"
    },
    {
     "name": "stderr",
     "output_type": "stream",
     "text": [
      "\u001b[34m\u001b[1mwandb\u001b[0m: \u001b[33mWARNING\u001b[0m Calling wandb.run.save without any arguments is deprecated.Changes to attributes are automatically persisted.\n",
      "                                                              \r"
     ]
    },
    {
     "data": {
      "text/html": [],
      "text/plain": [
       "<IPython.core.display.HTML object>"
      ]
     },
     "metadata": {},
     "output_type": "display_data"
    },
    {
     "data": {
      "text/html": [
       "<br>    <style><br>        .wandb-row {<br>            display: flex;<br>            flex-direction: row;<br>            flex-wrap: wrap;<br>            justify-content: flex-start;<br>            width: 100%;<br>        }<br>        .wandb-col {<br>            display: flex;<br>            flex-direction: column;<br>            flex-basis: 100%;<br>            flex: 1;<br>            padding: 10px;<br>        }<br>    </style><br><div class=\"wandb-row\"><div class=\"wandb-col\"><h3>Run history:</h3><br/><table class=\"wandb\"><tr><td>epoch</td><td>▁▂▃▃▄▅▆▆▇█</td></tr><tr><td>train_accuracy</td><td>▁▅▆▇▇▇████</td></tr><tr><td>train_loss</td><td>█▃▂▂▂▂▁▁▁▁</td></tr><tr><td>val_accuracy</td><td>▁▄▄▆▆▇▇▆█▇</td></tr><tr><td>val_loss</td><td>█▅▅▃▃▃▃▂▁▁</td></tr></table><br/></div><div class=\"wandb-col\"><h3>Run summary:</h3><br/><table class=\"wandb\"><tr><td>epoch</td><td>9</td></tr><tr><td>train_accuracy</td><td>0.73723</td></tr><tr><td>train_loss</td><td>0.86571</td></tr><tr><td>val_accuracy</td><td>0.64548</td></tr><tr><td>val_loss</td><td>1.20942</td></tr></table><br/></div></div>"
      ],
      "text/plain": [
       "<IPython.core.display.HTML object>"
      ]
     },
     "metadata": {},
     "output_type": "display_data"
    },
    {
     "data": {
      "text/html": [
       " View run <strong style=\"color:#cdcd00\">cell:LSTM_embed:64_hid:64_layers:2_beam:3</strong> at: <a href='https://wandb.ai/ma23c014-indian-institute-of-technology-madras/dakshina-transliteration/runs/luwmjfms' target=\"_blank\">https://wandb.ai/ma23c014-indian-institute-of-technology-madras/dakshina-transliteration/runs/luwmjfms</a><br> View project at: <a href='https://wandb.ai/ma23c014-indian-institute-of-technology-madras/dakshina-transliteration' target=\"_blank\">https://wandb.ai/ma23c014-indian-institute-of-technology-madras/dakshina-transliteration</a><br>Synced 5 W&B file(s), 0 media file(s), 3 artifact file(s) and 0 other file(s)"
      ],
      "text/plain": [
       "<IPython.core.display.HTML object>"
      ]
     },
     "metadata": {},
     "output_type": "display_data"
    },
    {
     "data": {
      "text/html": [
       "Find logs at: <code>./wandb/run-20250520_081434-luwmjfms/logs</code>"
      ],
      "text/plain": [
       "<IPython.core.display.HTML object>"
      ]
     },
     "metadata": {},
     "output_type": "display_data"
    },
    {
     "name": "stderr",
     "output_type": "stream",
     "text": [
      "\u001b[34m\u001b[1mwandb\u001b[0m: Agent Starting Run: 0gyikyrq with config:\n",
      "\u001b[34m\u001b[1mwandb\u001b[0m: \tbatch_size: 32\n",
      "\u001b[34m\u001b[1mwandb\u001b[0m: \tbeam_size: 3\n",
      "\u001b[34m\u001b[1mwandb\u001b[0m: \tcell_type: GRU\n",
      "\u001b[34m\u001b[1mwandb\u001b[0m: \tdropout: 0.1\n",
      "\u001b[34m\u001b[1mwandb\u001b[0m: \tembed_size: 64\n",
      "\u001b[34m\u001b[1mwandb\u001b[0m: \thidden_size: 16\n",
      "\u001b[34m\u001b[1mwandb\u001b[0m: \tlr: 0.0062017648359144265\n",
      "\u001b[34m\u001b[1mwandb\u001b[0m: \tnum_layers: 2\n"
     ]
    },
    {
     "data": {
      "text/html": [
       "Ignoring project 'dakshina-transliteration' when running a sweep."
      ],
      "text/plain": [
       "<IPython.core.display.HTML object>"
      ]
     },
     "metadata": {},
     "output_type": "display_data"
    },
    {
     "data": {
      "text/html": [
       "Tracking run with wandb version 0.19.9"
      ],
      "text/plain": [
       "<IPython.core.display.HTML object>"
      ]
     },
     "metadata": {},
     "output_type": "display_data"
    },
    {
     "data": {
      "text/html": [
       "Run data is saved locally in <code>/kaggle/working/wandb/run-20250520_082514-0gyikyrq</code>"
      ],
      "text/plain": [
       "<IPython.core.display.HTML object>"
      ]
     },
     "metadata": {},
     "output_type": "display_data"
    },
    {
     "data": {
      "text/html": [
       "Syncing run <strong><a href='https://wandb.ai/ma23c014-indian-institute-of-technology-madras/dakshina-transliteration/runs/0gyikyrq' target=\"_blank\">lemon-sweep-2</a></strong> to <a href='https://wandb.ai/ma23c014-indian-institute-of-technology-madras/dakshina-transliteration' target=\"_blank\">Weights & Biases</a> (<a href='https://wandb.me/developer-guide' target=\"_blank\">docs</a>)<br>Sweep page: <a href='https://wandb.ai/ma23c014-indian-institute-of-technology-madras/dakshina-transliteration/sweeps/vntbxx0z' target=\"_blank\">https://wandb.ai/ma23c014-indian-institute-of-technology-madras/dakshina-transliteration/sweeps/vntbxx0z</a>"
      ],
      "text/plain": [
       "<IPython.core.display.HTML object>"
      ]
     },
     "metadata": {},
     "output_type": "display_data"
    },
    {
     "data": {
      "text/html": [
       " View project at <a href='https://wandb.ai/ma23c014-indian-institute-of-technology-madras/dakshina-transliteration' target=\"_blank\">https://wandb.ai/ma23c014-indian-institute-of-technology-madras/dakshina-transliteration</a>"
      ],
      "text/plain": [
       "<IPython.core.display.HTML object>"
      ]
     },
     "metadata": {},
     "output_type": "display_data"
    },
    {
     "data": {
      "text/html": [
       " View sweep at <a href='https://wandb.ai/ma23c014-indian-institute-of-technology-madras/dakshina-transliteration/sweeps/vntbxx0z' target=\"_blank\">https://wandb.ai/ma23c014-indian-institute-of-technology-madras/dakshina-transliteration/sweeps/vntbxx0z</a>"
      ],
      "text/plain": [
       "<IPython.core.display.HTML object>"
      ]
     },
     "metadata": {},
     "output_type": "display_data"
    },
    {
     "data": {
      "text/html": [
       " View run at <a href='https://wandb.ai/ma23c014-indian-institute-of-technology-madras/dakshina-transliteration/runs/0gyikyrq' target=\"_blank\">https://wandb.ai/ma23c014-indian-institute-of-technology-madras/dakshina-transliteration/runs/0gyikyrq</a>"
      ],
      "text/plain": [
       "<IPython.core.display.HTML object>"
      ]
     },
     "metadata": {},
     "output_type": "display_data"
    },
    {
     "name": "stderr",
     "output_type": "stream",
     "text": [
      "                                                              \r"
     ]
    },
    {
     "data": {
      "text/html": [],
      "text/plain": [
       "<IPython.core.display.HTML object>"
      ]
     },
     "metadata": {},
     "output_type": "display_data"
    },
    {
     "data": {
      "text/html": [
       "<br>    <style><br>        .wandb-row {<br>            display: flex;<br>            flex-direction: row;<br>            flex-wrap: wrap;<br>            justify-content: flex-start;<br>            width: 100%;<br>        }<br>        .wandb-col {<br>            display: flex;<br>            flex-direction: column;<br>            flex-basis: 100%;<br>            flex: 1;<br>            padding: 10px;<br>        }<br>    </style><br><div class=\"wandb-row\"><div class=\"wandb-col\"><h3>Run history:</h3><br/><table class=\"wandb\"><tr><td>epoch</td><td>▁▂▃▃▄▅▆▆▇█</td></tr><tr><td>train_accuracy</td><td>▁▅▆▆▇▇▇███</td></tr><tr><td>train_loss</td><td>█▄▃▂▂▂▁▁▁▁</td></tr><tr><td>val_accuracy</td><td>▁▄▅▆▇▇▇█▇█</td></tr><tr><td>val_loss</td><td>█▅▄▃▂▁▁▁▁▁</td></tr></table><br/></div><div class=\"wandb-col\"><h3>Run summary:</h3><br/><table class=\"wandb\"><tr><td>epoch</td><td>9</td></tr><tr><td>train_accuracy</td><td>0.57346</td></tr><tr><td>train_loss</td><td>1.41401</td></tr><tr><td>val_accuracy</td><td>0.53685</td></tr><tr><td>val_loss</td><td>1.58914</td></tr></table><br/></div></div>"
      ],
      "text/plain": [
       "<IPython.core.display.HTML object>"
      ]
     },
     "metadata": {},
     "output_type": "display_data"
    },
    {
     "data": {
      "text/html": [
       " View run <strong style=\"color:#cdcd00\">cell:GRU_embed:64_hid:16_layers:2_beam:3</strong> at: <a href='https://wandb.ai/ma23c014-indian-institute-of-technology-madras/dakshina-transliteration/runs/0gyikyrq' target=\"_blank\">https://wandb.ai/ma23c014-indian-institute-of-technology-madras/dakshina-transliteration/runs/0gyikyrq</a><br> View project at: <a href='https://wandb.ai/ma23c014-indian-institute-of-technology-madras/dakshina-transliteration' target=\"_blank\">https://wandb.ai/ma23c014-indian-institute-of-technology-madras/dakshina-transliteration</a><br>Synced 5 W&B file(s), 0 media file(s), 3 artifact file(s) and 0 other file(s)"
      ],
      "text/plain": [
       "<IPython.core.display.HTML object>"
      ]
     },
     "metadata": {},
     "output_type": "display_data"
    },
    {
     "data": {
      "text/html": [
       "Find logs at: <code>./wandb/run-20250520_082514-0gyikyrq/logs</code>"
      ],
      "text/plain": [
       "<IPython.core.display.HTML object>"
      ]
     },
     "metadata": {},
     "output_type": "display_data"
    },
    {
     "name": "stderr",
     "output_type": "stream",
     "text": [
      "\u001b[34m\u001b[1mwandb\u001b[0m: Agent Starting Run: i5zv17xg with config:\n",
      "\u001b[34m\u001b[1mwandb\u001b[0m: \tbatch_size: 64\n",
      "\u001b[34m\u001b[1mwandb\u001b[0m: \tbeam_size: 5\n",
      "\u001b[34m\u001b[1mwandb\u001b[0m: \tcell_type: LSTM\n",
      "\u001b[34m\u001b[1mwandb\u001b[0m: \tdropout: 0.2\n",
      "\u001b[34m\u001b[1mwandb\u001b[0m: \tembed_size: 128\n",
      "\u001b[34m\u001b[1mwandb\u001b[0m: \thidden_size: 128\n",
      "\u001b[34m\u001b[1mwandb\u001b[0m: \tlr: 0.0017595862340974528\n",
      "\u001b[34m\u001b[1mwandb\u001b[0m: \tnum_layers: 1\n"
     ]
    },
    {
     "data": {
      "text/html": [
       "Ignoring project 'dakshina-transliteration' when running a sweep."
      ],
      "text/plain": [
       "<IPython.core.display.HTML object>"
      ]
     },
     "metadata": {},
     "output_type": "display_data"
    },
    {
     "data": {
      "text/html": [
       "Tracking run with wandb version 0.19.9"
      ],
      "text/plain": [
       "<IPython.core.display.HTML object>"
      ]
     },
     "metadata": {},
     "output_type": "display_data"
    },
    {
     "data": {
      "text/html": [
       "Run data is saved locally in <code>/kaggle/working/wandb/run-20250520_083052-i5zv17xg</code>"
      ],
      "text/plain": [
       "<IPython.core.display.HTML object>"
      ]
     },
     "metadata": {},
     "output_type": "display_data"
    },
    {
     "data": {
      "text/html": [
       "Syncing run <strong><a href='https://wandb.ai/ma23c014-indian-institute-of-technology-madras/dakshina-transliteration/runs/i5zv17xg' target=\"_blank\">iconic-sweep-3</a></strong> to <a href='https://wandb.ai/ma23c014-indian-institute-of-technology-madras/dakshina-transliteration' target=\"_blank\">Weights & Biases</a> (<a href='https://wandb.me/developer-guide' target=\"_blank\">docs</a>)<br>Sweep page: <a href='https://wandb.ai/ma23c014-indian-institute-of-technology-madras/dakshina-transliteration/sweeps/vntbxx0z' target=\"_blank\">https://wandb.ai/ma23c014-indian-institute-of-technology-madras/dakshina-transliteration/sweeps/vntbxx0z</a>"
      ],
      "text/plain": [
       "<IPython.core.display.HTML object>"
      ]
     },
     "metadata": {},
     "output_type": "display_data"
    },
    {
     "data": {
      "text/html": [
       " View project at <a href='https://wandb.ai/ma23c014-indian-institute-of-technology-madras/dakshina-transliteration' target=\"_blank\">https://wandb.ai/ma23c014-indian-institute-of-technology-madras/dakshina-transliteration</a>"
      ],
      "text/plain": [
       "<IPython.core.display.HTML object>"
      ]
     },
     "metadata": {},
     "output_type": "display_data"
    },
    {
     "data": {
      "text/html": [
       " View sweep at <a href='https://wandb.ai/ma23c014-indian-institute-of-technology-madras/dakshina-transliteration/sweeps/vntbxx0z' target=\"_blank\">https://wandb.ai/ma23c014-indian-institute-of-technology-madras/dakshina-transliteration/sweeps/vntbxx0z</a>"
      ],
      "text/plain": [
       "<IPython.core.display.HTML object>"
      ]
     },
     "metadata": {},
     "output_type": "display_data"
    },
    {
     "data": {
      "text/html": [
       " View run at <a href='https://wandb.ai/ma23c014-indian-institute-of-technology-madras/dakshina-transliteration/runs/i5zv17xg' target=\"_blank\">https://wandb.ai/ma23c014-indian-institute-of-technology-madras/dakshina-transliteration/runs/i5zv17xg</a>"
      ],
      "text/plain": [
       "<IPython.core.display.HTML object>"
      ]
     },
     "metadata": {},
     "output_type": "display_data"
    },
    {
     "name": "stderr",
     "output_type": "stream",
     "text": [
      "                                                            \r"
     ]
    },
    {
     "data": {
      "text/html": [],
      "text/plain": [
       "<IPython.core.display.HTML object>"
      ]
     },
     "metadata": {},
     "output_type": "display_data"
    },
    {
     "data": {
      "text/html": [
       "<br>    <style><br>        .wandb-row {<br>            display: flex;<br>            flex-direction: row;<br>            flex-wrap: wrap;<br>            justify-content: flex-start;<br>            width: 100%;<br>        }<br>        .wandb-col {<br>            display: flex;<br>            flex-direction: column;<br>            flex-basis: 100%;<br>            flex: 1;<br>            padding: 10px;<br>        }<br>    </style><br><div class=\"wandb-row\"><div class=\"wandb-col\"><h3>Run history:</h3><br/><table class=\"wandb\"><tr><td>epoch</td><td>▁▂▃▃▄▅▆▆▇█</td></tr><tr><td>train_accuracy</td><td>▁▅▆▆▇▇▇███</td></tr><tr><td>train_loss</td><td>█▄▃▂▂▂▂▁▁▁</td></tr><tr><td>val_accuracy</td><td>▁▄▆▆▇▇▇▇██</td></tr><tr><td>val_loss</td><td>█▄▃▂▁▁▁▁▂▁</td></tr></table><br/></div><div class=\"wandb-col\"><h3>Run summary:</h3><br/><table class=\"wandb\"><tr><td>epoch</td><td>9</td></tr><tr><td>train_accuracy</td><td>0.84159</td></tr><tr><td>train_loss</td><td>0.53765</td></tr><tr><td>val_accuracy</td><td>0.67427</td></tr><tr><td>val_loss</td><td>1.18121</td></tr></table><br/></div></div>"
      ],
      "text/plain": [
       "<IPython.core.display.HTML object>"
      ]
     },
     "metadata": {},
     "output_type": "display_data"
    },
    {
     "data": {
      "text/html": [
       " View run <strong style=\"color:#cdcd00\">cell:LSTM_embed:128_hid:128_layers:1_beam:5</strong> at: <a href='https://wandb.ai/ma23c014-indian-institute-of-technology-madras/dakshina-transliteration/runs/i5zv17xg' target=\"_blank\">https://wandb.ai/ma23c014-indian-institute-of-technology-madras/dakshina-transliteration/runs/i5zv17xg</a><br> View project at: <a href='https://wandb.ai/ma23c014-indian-institute-of-technology-madras/dakshina-transliteration' target=\"_blank\">https://wandb.ai/ma23c014-indian-institute-of-technology-madras/dakshina-transliteration</a><br>Synced 5 W&B file(s), 0 media file(s), 3 artifact file(s) and 0 other file(s)"
      ],
      "text/plain": [
       "<IPython.core.display.HTML object>"
      ]
     },
     "metadata": {},
     "output_type": "display_data"
    },
    {
     "data": {
      "text/html": [
       "Find logs at: <code>./wandb/run-20250520_083052-i5zv17xg/logs</code>"
      ],
      "text/plain": [
       "<IPython.core.display.HTML object>"
      ]
     },
     "metadata": {},
     "output_type": "display_data"
    },
    {
     "name": "stderr",
     "output_type": "stream",
     "text": [
      "\u001b[34m\u001b[1mwandb\u001b[0m: Agent Starting Run: do0ff2yj with config:\n",
      "\u001b[34m\u001b[1mwandb\u001b[0m: \tbatch_size: 16\n",
      "\u001b[34m\u001b[1mwandb\u001b[0m: \tbeam_size: 5\n",
      "\u001b[34m\u001b[1mwandb\u001b[0m: \tcell_type: GRU\n",
      "\u001b[34m\u001b[1mwandb\u001b[0m: \tdropout: 0.3\n",
      "\u001b[34m\u001b[1mwandb\u001b[0m: \tembed_size: 32\n",
      "\u001b[34m\u001b[1mwandb\u001b[0m: \thidden_size: 32\n",
      "\u001b[34m\u001b[1mwandb\u001b[0m: \tlr: 0.002905964003211017\n",
      "\u001b[34m\u001b[1mwandb\u001b[0m: \tnum_layers: 2\n"
     ]
    },
    {
     "data": {
      "text/html": [
       "Ignoring project 'dakshina-transliteration' when running a sweep."
      ],
      "text/plain": [
       "<IPython.core.display.HTML object>"
      ]
     },
     "metadata": {},
     "output_type": "display_data"
    },
    {
     "data": {
      "text/html": [
       "Tracking run with wandb version 0.19.9"
      ],
      "text/plain": [
       "<IPython.core.display.HTML object>"
      ]
     },
     "metadata": {},
     "output_type": "display_data"
    },
    {
     "data": {
      "text/html": [
       "Run data is saved locally in <code>/kaggle/working/wandb/run-20250520_083338-do0ff2yj</code>"
      ],
      "text/plain": [
       "<IPython.core.display.HTML object>"
      ]
     },
     "metadata": {},
     "output_type": "display_data"
    },
    {
     "data": {
      "text/html": [
       "Syncing run <strong><a href='https://wandb.ai/ma23c014-indian-institute-of-technology-madras/dakshina-transliteration/runs/do0ff2yj' target=\"_blank\">dashing-sweep-4</a></strong> to <a href='https://wandb.ai/ma23c014-indian-institute-of-technology-madras/dakshina-transliteration' target=\"_blank\">Weights & Biases</a> (<a href='https://wandb.me/developer-guide' target=\"_blank\">docs</a>)<br>Sweep page: <a href='https://wandb.ai/ma23c014-indian-institute-of-technology-madras/dakshina-transliteration/sweeps/vntbxx0z' target=\"_blank\">https://wandb.ai/ma23c014-indian-institute-of-technology-madras/dakshina-transliteration/sweeps/vntbxx0z</a>"
      ],
      "text/plain": [
       "<IPython.core.display.HTML object>"
      ]
     },
     "metadata": {},
     "output_type": "display_data"
    },
    {
     "data": {
      "text/html": [
       " View project at <a href='https://wandb.ai/ma23c014-indian-institute-of-technology-madras/dakshina-transliteration' target=\"_blank\">https://wandb.ai/ma23c014-indian-institute-of-technology-madras/dakshina-transliteration</a>"
      ],
      "text/plain": [
       "<IPython.core.display.HTML object>"
      ]
     },
     "metadata": {},
     "output_type": "display_data"
    },
    {
     "data": {
      "text/html": [
       " View sweep at <a href='https://wandb.ai/ma23c014-indian-institute-of-technology-madras/dakshina-transliteration/sweeps/vntbxx0z' target=\"_blank\">https://wandb.ai/ma23c014-indian-institute-of-technology-madras/dakshina-transliteration/sweeps/vntbxx0z</a>"
      ],
      "text/plain": [
       "<IPython.core.display.HTML object>"
      ]
     },
     "metadata": {},
     "output_type": "display_data"
    },
    {
     "data": {
      "text/html": [
       " View run at <a href='https://wandb.ai/ma23c014-indian-institute-of-technology-madras/dakshina-transliteration/runs/do0ff2yj' target=\"_blank\">https://wandb.ai/ma23c014-indian-institute-of-technology-madras/dakshina-transliteration/runs/do0ff2yj</a>"
      ],
      "text/plain": [
       "<IPython.core.display.HTML object>"
      ]
     },
     "metadata": {},
     "output_type": "display_data"
    },
    {
     "name": "stderr",
     "output_type": "stream",
     "text": [
      "                                                              \r"
     ]
    },
    {
     "data": {
      "text/html": [],
      "text/plain": [
       "<IPython.core.display.HTML object>"
      ]
     },
     "metadata": {},
     "output_type": "display_data"
    },
    {
     "data": {
      "text/html": [
       "<br>    <style><br>        .wandb-row {<br>            display: flex;<br>            flex-direction: row;<br>            flex-wrap: wrap;<br>            justify-content: flex-start;<br>            width: 100%;<br>        }<br>        .wandb-col {<br>            display: flex;<br>            flex-direction: column;<br>            flex-basis: 100%;<br>            flex: 1;<br>            padding: 10px;<br>        }<br>    </style><br><div class=\"wandb-row\"><div class=\"wandb-col\"><h3>Run history:</h3><br/><table class=\"wandb\"><tr><td>epoch</td><td>▁▂▃▃▄▅▆▆▇█</td></tr><tr><td>train_accuracy</td><td>▁▅▆▇▇▇████</td></tr><tr><td>train_loss</td><td>█▄▃▂▂▂▁▁▁▁</td></tr><tr><td>val_accuracy</td><td>▁▄▅▆▇▇█▇██</td></tr><tr><td>val_loss</td><td>█▅▃▂▂▂▁▁▂▁</td></tr></table><br/></div><div class=\"wandb-col\"><h3>Run summary:</h3><br/><table class=\"wandb\"><tr><td>epoch</td><td>9</td></tr><tr><td>train_accuracy</td><td>0.65783</td></tr><tr><td>train_loss</td><td>1.10021</td></tr><tr><td>val_accuracy</td><td>0.61429</td></tr><tr><td>val_loss</td><td>1.26838</td></tr></table><br/></div></div>"
      ],
      "text/plain": [
       "<IPython.core.display.HTML object>"
      ]
     },
     "metadata": {},
     "output_type": "display_data"
    },
    {
     "data": {
      "text/html": [
       " View run <strong style=\"color:#cdcd00\">cell:GRU_embed:32_hid:32_layers:2_beam:5</strong> at: <a href='https://wandb.ai/ma23c014-indian-institute-of-technology-madras/dakshina-transliteration/runs/do0ff2yj' target=\"_blank\">https://wandb.ai/ma23c014-indian-institute-of-technology-madras/dakshina-transliteration/runs/do0ff2yj</a><br> View project at: <a href='https://wandb.ai/ma23c014-indian-institute-of-technology-madras/dakshina-transliteration' target=\"_blank\">https://wandb.ai/ma23c014-indian-institute-of-technology-madras/dakshina-transliteration</a><br>Synced 5 W&B file(s), 0 media file(s), 3 artifact file(s) and 0 other file(s)"
      ],
      "text/plain": [
       "<IPython.core.display.HTML object>"
      ]
     },
     "metadata": {},
     "output_type": "display_data"
    },
    {
     "data": {
      "text/html": [
       "Find logs at: <code>./wandb/run-20250520_083338-do0ff2yj/logs</code>"
      ],
      "text/plain": [
       "<IPython.core.display.HTML object>"
      ]
     },
     "metadata": {},
     "output_type": "display_data"
    },
    {
     "name": "stderr",
     "output_type": "stream",
     "text": [
      "\u001b[34m\u001b[1mwandb\u001b[0m: Agent Starting Run: ii7z8zrn with config:\n",
      "\u001b[34m\u001b[1mwandb\u001b[0m: \tbatch_size: 16\n",
      "\u001b[34m\u001b[1mwandb\u001b[0m: \tbeam_size: 3\n",
      "\u001b[34m\u001b[1mwandb\u001b[0m: \tcell_type: LSTM\n",
      "\u001b[34m\u001b[1mwandb\u001b[0m: \tdropout: 0.1\n",
      "\u001b[34m\u001b[1mwandb\u001b[0m: \tembed_size: 64\n",
      "\u001b[34m\u001b[1mwandb\u001b[0m: \thidden_size: 64\n",
      "\u001b[34m\u001b[1mwandb\u001b[0m: \tlr: 0.008363730112610004\n",
      "\u001b[34m\u001b[1mwandb\u001b[0m: \tnum_layers: 2\n"
     ]
    },
    {
     "data": {
      "text/html": [
       "Ignoring project 'dakshina-transliteration' when running a sweep."
      ],
      "text/plain": [
       "<IPython.core.display.HTML object>"
      ]
     },
     "metadata": {},
     "output_type": "display_data"
    },
    {
     "data": {
      "text/html": [
       "Tracking run with wandb version 0.19.9"
      ],
      "text/plain": [
       "<IPython.core.display.HTML object>"
      ]
     },
     "metadata": {},
     "output_type": "display_data"
    },
    {
     "data": {
      "text/html": [
       "Run data is saved locally in <code>/kaggle/working/wandb/run-20250520_084334-ii7z8zrn</code>"
      ],
      "text/plain": [
       "<IPython.core.display.HTML object>"
      ]
     },
     "metadata": {},
     "output_type": "display_data"
    },
    {
     "data": {
      "text/html": [
       "Syncing run <strong><a href='https://wandb.ai/ma23c014-indian-institute-of-technology-madras/dakshina-transliteration/runs/ii7z8zrn' target=\"_blank\">clean-sweep-5</a></strong> to <a href='https://wandb.ai/ma23c014-indian-institute-of-technology-madras/dakshina-transliteration' target=\"_blank\">Weights & Biases</a> (<a href='https://wandb.me/developer-guide' target=\"_blank\">docs</a>)<br>Sweep page: <a href='https://wandb.ai/ma23c014-indian-institute-of-technology-madras/dakshina-transliteration/sweeps/vntbxx0z' target=\"_blank\">https://wandb.ai/ma23c014-indian-institute-of-technology-madras/dakshina-transliteration/sweeps/vntbxx0z</a>"
      ],
      "text/plain": [
       "<IPython.core.display.HTML object>"
      ]
     },
     "metadata": {},
     "output_type": "display_data"
    },
    {
     "data": {
      "text/html": [
       " View project at <a href='https://wandb.ai/ma23c014-indian-institute-of-technology-madras/dakshina-transliteration' target=\"_blank\">https://wandb.ai/ma23c014-indian-institute-of-technology-madras/dakshina-transliteration</a>"
      ],
      "text/plain": [
       "<IPython.core.display.HTML object>"
      ]
     },
     "metadata": {},
     "output_type": "display_data"
    },
    {
     "data": {
      "text/html": [
       " View sweep at <a href='https://wandb.ai/ma23c014-indian-institute-of-technology-madras/dakshina-transliteration/sweeps/vntbxx0z' target=\"_blank\">https://wandb.ai/ma23c014-indian-institute-of-technology-madras/dakshina-transliteration/sweeps/vntbxx0z</a>"
      ],
      "text/plain": [
       "<IPython.core.display.HTML object>"
      ]
     },
     "metadata": {},
     "output_type": "display_data"
    },
    {
     "data": {
      "text/html": [
       " View run at <a href='https://wandb.ai/ma23c014-indian-institute-of-technology-madras/dakshina-transliteration/runs/ii7z8zrn' target=\"_blank\">https://wandb.ai/ma23c014-indian-institute-of-technology-madras/dakshina-transliteration/runs/ii7z8zrn</a>"
      ],
      "text/plain": [
       "<IPython.core.display.HTML object>"
      ]
     },
     "metadata": {},
     "output_type": "display_data"
    },
    {
     "name": "stderr",
     "output_type": "stream",
     "text": [
      "                                                              \r"
     ]
    },
    {
     "data": {
      "text/html": [],
      "text/plain": [
       "<IPython.core.display.HTML object>"
      ]
     },
     "metadata": {},
     "output_type": "display_data"
    },
    {
     "data": {
      "text/html": [
       "<br>    <style><br>        .wandb-row {<br>            display: flex;<br>            flex-direction: row;<br>            flex-wrap: wrap;<br>            justify-content: flex-start;<br>            width: 100%;<br>        }<br>        .wandb-col {<br>            display: flex;<br>            flex-direction: column;<br>            flex-basis: 100%;<br>            flex: 1;<br>            padding: 10px;<br>        }<br>    </style><br><div class=\"wandb-row\"><div class=\"wandb-col\"><h3>Run history:</h3><br/><table class=\"wandb\"><tr><td>epoch</td><td>▁▂▃▃▄▅▆▆▇█</td></tr><tr><td>train_accuracy</td><td>▁▆▆▇▇█████</td></tr><tr><td>train_loss</td><td>█▃▂▂▂▁▁▁▁▁</td></tr><tr><td>val_accuracy</td><td>▁▄▆▆▇▇▇▇█▇</td></tr><tr><td>val_loss</td><td>█▄▃▂▂▁▁▁▁▁</td></tr></table><br/></div><div class=\"wandb-col\"><h3>Run summary:</h3><br/><table class=\"wandb\"><tr><td>epoch</td><td>9</td></tr><tr><td>train_accuracy</td><td>0.71291</td></tr><tr><td>train_loss</td><td>0.94749</td></tr><tr><td>val_accuracy</td><td>0.62658</td></tr><tr><td>val_loss</td><td>1.2639</td></tr></table><br/></div></div>"
      ],
      "text/plain": [
       "<IPython.core.display.HTML object>"
      ]
     },
     "metadata": {},
     "output_type": "display_data"
    },
    {
     "data": {
      "text/html": [
       " View run <strong style=\"color:#cdcd00\">cell:LSTM_embed:64_hid:64_layers:2_beam:3</strong> at: <a href='https://wandb.ai/ma23c014-indian-institute-of-technology-madras/dakshina-transliteration/runs/ii7z8zrn' target=\"_blank\">https://wandb.ai/ma23c014-indian-institute-of-technology-madras/dakshina-transliteration/runs/ii7z8zrn</a><br> View project at: <a href='https://wandb.ai/ma23c014-indian-institute-of-technology-madras/dakshina-transliteration' target=\"_blank\">https://wandb.ai/ma23c014-indian-institute-of-technology-madras/dakshina-transliteration</a><br>Synced 5 W&B file(s), 0 media file(s), 3 artifact file(s) and 0 other file(s)"
      ],
      "text/plain": [
       "<IPython.core.display.HTML object>"
      ]
     },
     "metadata": {},
     "output_type": "display_data"
    },
    {
     "data": {
      "text/html": [
       "Find logs at: <code>./wandb/run-20250520_084334-ii7z8zrn/logs</code>"
      ],
      "text/plain": [
       "<IPython.core.display.HTML object>"
      ]
     },
     "metadata": {},
     "output_type": "display_data"
    },
    {
     "name": "stderr",
     "output_type": "stream",
     "text": [
      "\u001b[34m\u001b[1mwandb\u001b[0m: Agent Starting Run: 7doqm96b with config:\n",
      "\u001b[34m\u001b[1mwandb\u001b[0m: \tbatch_size: 64\n",
      "\u001b[34m\u001b[1mwandb\u001b[0m: \tbeam_size: 5\n",
      "\u001b[34m\u001b[1mwandb\u001b[0m: \tcell_type: LSTM\n",
      "\u001b[34m\u001b[1mwandb\u001b[0m: \tdropout: 0.2\n",
      "\u001b[34m\u001b[1mwandb\u001b[0m: \tembed_size: 128\n",
      "\u001b[34m\u001b[1mwandb\u001b[0m: \thidden_size: 128\n",
      "\u001b[34m\u001b[1mwandb\u001b[0m: \tlr: 0.006177069147855139\n",
      "\u001b[34m\u001b[1mwandb\u001b[0m: \tnum_layers: 1\n"
     ]
    },
    {
     "data": {
      "text/html": [
       "Ignoring project 'dakshina-transliteration' when running a sweep."
      ],
      "text/plain": [
       "<IPython.core.display.HTML object>"
      ]
     },
     "metadata": {},
     "output_type": "display_data"
    },
    {
     "data": {
      "text/html": [
       "Tracking run with wandb version 0.19.9"
      ],
      "text/plain": [
       "<IPython.core.display.HTML object>"
      ]
     },
     "metadata": {},
     "output_type": "display_data"
    },
    {
     "data": {
      "text/html": [
       "Run data is saved locally in <code>/kaggle/working/wandb/run-20250520_085412-7doqm96b</code>"
      ],
      "text/plain": [
       "<IPython.core.display.HTML object>"
      ]
     },
     "metadata": {},
     "output_type": "display_data"
    },
    {
     "data": {
      "text/html": [
       "Syncing run <strong><a href='https://wandb.ai/ma23c014-indian-institute-of-technology-madras/dakshina-transliteration/runs/7doqm96b' target=\"_blank\">desert-sweep-6</a></strong> to <a href='https://wandb.ai/ma23c014-indian-institute-of-technology-madras/dakshina-transliteration' target=\"_blank\">Weights & Biases</a> (<a href='https://wandb.me/developer-guide' target=\"_blank\">docs</a>)<br>Sweep page: <a href='https://wandb.ai/ma23c014-indian-institute-of-technology-madras/dakshina-transliteration/sweeps/vntbxx0z' target=\"_blank\">https://wandb.ai/ma23c014-indian-institute-of-technology-madras/dakshina-transliteration/sweeps/vntbxx0z</a>"
      ],
      "text/plain": [
       "<IPython.core.display.HTML object>"
      ]
     },
     "metadata": {},
     "output_type": "display_data"
    },
    {
     "data": {
      "text/html": [
       " View project at <a href='https://wandb.ai/ma23c014-indian-institute-of-technology-madras/dakshina-transliteration' target=\"_blank\">https://wandb.ai/ma23c014-indian-institute-of-technology-madras/dakshina-transliteration</a>"
      ],
      "text/plain": [
       "<IPython.core.display.HTML object>"
      ]
     },
     "metadata": {},
     "output_type": "display_data"
    },
    {
     "data": {
      "text/html": [
       " View sweep at <a href='https://wandb.ai/ma23c014-indian-institute-of-technology-madras/dakshina-transliteration/sweeps/vntbxx0z' target=\"_blank\">https://wandb.ai/ma23c014-indian-institute-of-technology-madras/dakshina-transliteration/sweeps/vntbxx0z</a>"
      ],
      "text/plain": [
       "<IPython.core.display.HTML object>"
      ]
     },
     "metadata": {},
     "output_type": "display_data"
    },
    {
     "data": {
      "text/html": [
       " View run at <a href='https://wandb.ai/ma23c014-indian-institute-of-technology-madras/dakshina-transliteration/runs/7doqm96b' target=\"_blank\">https://wandb.ai/ma23c014-indian-institute-of-technology-madras/dakshina-transliteration/runs/7doqm96b</a>"
      ],
      "text/plain": [
       "<IPython.core.display.HTML object>"
      ]
     },
     "metadata": {},
     "output_type": "display_data"
    },
    {
     "name": "stderr",
     "output_type": "stream",
     "text": [
      "                                                            \r"
     ]
    },
    {
     "data": {
      "text/html": [],
      "text/plain": [
       "<IPython.core.display.HTML object>"
      ]
     },
     "metadata": {},
     "output_type": "display_data"
    },
    {
     "data": {
      "text/html": [
       "<br>    <style><br>        .wandb-row {<br>            display: flex;<br>            flex-direction: row;<br>            flex-wrap: wrap;<br>            justify-content: flex-start;<br>            width: 100%;<br>        }<br>        .wandb-col {<br>            display: flex;<br>            flex-direction: column;<br>            flex-basis: 100%;<br>            flex: 1;<br>            padding: 10px;<br>        }<br>    </style><br><div class=\"wandb-row\"><div class=\"wandb-col\"><h3>Run history:</h3><br/><table class=\"wandb\"><tr><td>epoch</td><td>▁▂▃▃▄▅▆▆▇█</td></tr><tr><td>train_accuracy</td><td>▁▅▆▆▇▇▇███</td></tr><tr><td>train_loss</td><td>█▄▃▂▂▂▂▁▁▁</td></tr><tr><td>val_accuracy</td><td>▁▅▆▇██▇█▇█</td></tr><tr><td>val_loss</td><td>█▂▃▂▁▁▁▁▂▂</td></tr></table><br/></div><div class=\"wandb-col\"><h3>Run summary:</h3><br/><table class=\"wandb\"><tr><td>epoch</td><td>9</td></tr><tr><td>train_accuracy</td><td>0.80125</td></tr><tr><td>train_loss</td><td>0.66363</td></tr><tr><td>val_accuracy</td><td>0.64223</td></tr><tr><td>val_loss</td><td>1.30744</td></tr></table><br/></div></div>"
      ],
      "text/plain": [
       "<IPython.core.display.HTML object>"
      ]
     },
     "metadata": {},
     "output_type": "display_data"
    },
    {
     "data": {
      "text/html": [
       " View run <strong style=\"color:#cdcd00\">cell:LSTM_embed:128_hid:128_layers:1_beam:5</strong> at: <a href='https://wandb.ai/ma23c014-indian-institute-of-technology-madras/dakshina-transliteration/runs/7doqm96b' target=\"_blank\">https://wandb.ai/ma23c014-indian-institute-of-technology-madras/dakshina-transliteration/runs/7doqm96b</a><br> View project at: <a href='https://wandb.ai/ma23c014-indian-institute-of-technology-madras/dakshina-transliteration' target=\"_blank\">https://wandb.ai/ma23c014-indian-institute-of-technology-madras/dakshina-transliteration</a><br>Synced 5 W&B file(s), 0 media file(s), 3 artifact file(s) and 0 other file(s)"
      ],
      "text/plain": [
       "<IPython.core.display.HTML object>"
      ]
     },
     "metadata": {},
     "output_type": "display_data"
    },
    {
     "data": {
      "text/html": [
       "Find logs at: <code>./wandb/run-20250520_085412-7doqm96b/logs</code>"
      ],
      "text/plain": [
       "<IPython.core.display.HTML object>"
      ]
     },
     "metadata": {},
     "output_type": "display_data"
    },
    {
     "name": "stderr",
     "output_type": "stream",
     "text": [
      "\u001b[34m\u001b[1mwandb\u001b[0m: Sweep Agent: Waiting for job.\n",
      "\u001b[34m\u001b[1mwandb\u001b[0m: Job received.\n",
      "\u001b[34m\u001b[1mwandb\u001b[0m: Agent Starting Run: k95p6vca with config:\n",
      "\u001b[34m\u001b[1mwandb\u001b[0m: \tbatch_size: 32\n",
      "\u001b[34m\u001b[1mwandb\u001b[0m: \tbeam_size: 5\n",
      "\u001b[34m\u001b[1mwandb\u001b[0m: \tcell_type: LSTM\n",
      "\u001b[34m\u001b[1mwandb\u001b[0m: \tdropout: 0.3\n",
      "\u001b[34m\u001b[1mwandb\u001b[0m: \tembed_size: 128\n",
      "\u001b[34m\u001b[1mwandb\u001b[0m: \thidden_size: 128\n",
      "\u001b[34m\u001b[1mwandb\u001b[0m: \tlr: 0.0007224041581262549\n",
      "\u001b[34m\u001b[1mwandb\u001b[0m: \tnum_layers: 1\n"
     ]
    },
    {
     "data": {
      "text/html": [
       "Ignoring project 'dakshina-transliteration' when running a sweep."
      ],
      "text/plain": [
       "<IPython.core.display.HTML object>"
      ]
     },
     "metadata": {},
     "output_type": "display_data"
    },
    {
     "data": {
      "text/html": [
       "Tracking run with wandb version 0.19.9"
      ],
      "text/plain": [
       "<IPython.core.display.HTML object>"
      ]
     },
     "metadata": {},
     "output_type": "display_data"
    },
    {
     "data": {
      "text/html": [
       "Run data is saved locally in <code>/kaggle/working/wandb/run-20250520_085709-k95p6vca</code>"
      ],
      "text/plain": [
       "<IPython.core.display.HTML object>"
      ]
     },
     "metadata": {},
     "output_type": "display_data"
    },
    {
     "data": {
      "text/html": [
       "Syncing run <strong><a href='https://wandb.ai/ma23c014-indian-institute-of-technology-madras/dakshina-transliteration/runs/k95p6vca' target=\"_blank\">iconic-sweep-7</a></strong> to <a href='https://wandb.ai/ma23c014-indian-institute-of-technology-madras/dakshina-transliteration' target=\"_blank\">Weights & Biases</a> (<a href='https://wandb.me/developer-guide' target=\"_blank\">docs</a>)<br>Sweep page: <a href='https://wandb.ai/ma23c014-indian-institute-of-technology-madras/dakshina-transliteration/sweeps/vntbxx0z' target=\"_blank\">https://wandb.ai/ma23c014-indian-institute-of-technology-madras/dakshina-transliteration/sweeps/vntbxx0z</a>"
      ],
      "text/plain": [
       "<IPython.core.display.HTML object>"
      ]
     },
     "metadata": {},
     "output_type": "display_data"
    },
    {
     "data": {
      "text/html": [
       " View project at <a href='https://wandb.ai/ma23c014-indian-institute-of-technology-madras/dakshina-transliteration' target=\"_blank\">https://wandb.ai/ma23c014-indian-institute-of-technology-madras/dakshina-transliteration</a>"
      ],
      "text/plain": [
       "<IPython.core.display.HTML object>"
      ]
     },
     "metadata": {},
     "output_type": "display_data"
    },
    {
     "data": {
      "text/html": [
       " View sweep at <a href='https://wandb.ai/ma23c014-indian-institute-of-technology-madras/dakshina-transliteration/sweeps/vntbxx0z' target=\"_blank\">https://wandb.ai/ma23c014-indian-institute-of-technology-madras/dakshina-transliteration/sweeps/vntbxx0z</a>"
      ],
      "text/plain": [
       "<IPython.core.display.HTML object>"
      ]
     },
     "metadata": {},
     "output_type": "display_data"
    },
    {
     "data": {
      "text/html": [
       " View run at <a href='https://wandb.ai/ma23c014-indian-institute-of-technology-madras/dakshina-transliteration/runs/k95p6vca' target=\"_blank\">https://wandb.ai/ma23c014-indian-institute-of-technology-madras/dakshina-transliteration/runs/k95p6vca</a>"
      ],
      "text/plain": [
       "<IPython.core.display.HTML object>"
      ]
     },
     "metadata": {},
     "output_type": "display_data"
    },
    {
     "name": "stderr",
     "output_type": "stream",
     "text": [
      "                                                              \r"
     ]
    },
    {
     "data": {
      "text/html": [],
      "text/plain": [
       "<IPython.core.display.HTML object>"
      ]
     },
     "metadata": {},
     "output_type": "display_data"
    },
    {
     "data": {
      "text/html": [
       "<br>    <style><br>        .wandb-row {<br>            display: flex;<br>            flex-direction: row;<br>            flex-wrap: wrap;<br>            justify-content: flex-start;<br>            width: 100%;<br>        }<br>        .wandb-col {<br>            display: flex;<br>            flex-direction: column;<br>            flex-basis: 100%;<br>            flex: 1;<br>            padding: 10px;<br>        }<br>    </style><br><div class=\"wandb-row\"><div class=\"wandb-col\"><h3>Run history:</h3><br/><table class=\"wandb\"><tr><td>epoch</td><td>▁▂▃▃▄▅▆▆▇█</td></tr><tr><td>train_accuracy</td><td>▁▅▆▆▇▇▇███</td></tr><tr><td>train_loss</td><td>█▄▃▂▂▂▁▁▁▁</td></tr><tr><td>val_accuracy</td><td>▁▄▆▆▇▇▇▇██</td></tr><tr><td>val_loss</td><td>█▄▃▂▂▁▂▁▁▁</td></tr></table><br/></div><div class=\"wandb-col\"><h3>Run summary:</h3><br/><table class=\"wandb\"><tr><td>epoch</td><td>9</td></tr><tr><td>train_accuracy</td><td>0.82725</td></tr><tr><td>train_loss</td><td>0.58199</td></tr><tr><td>val_accuracy</td><td>0.67512</td></tr><tr><td>val_loss</td><td>1.16456</td></tr></table><br/></div></div>"
      ],
      "text/plain": [
       "<IPython.core.display.HTML object>"
      ]
     },
     "metadata": {},
     "output_type": "display_data"
    },
    {
     "data": {
      "text/html": [
       " View run <strong style=\"color:#cdcd00\">cell:LSTM_embed:128_hid:128_layers:1_beam:5</strong> at: <a href='https://wandb.ai/ma23c014-indian-institute-of-technology-madras/dakshina-transliteration/runs/k95p6vca' target=\"_blank\">https://wandb.ai/ma23c014-indian-institute-of-technology-madras/dakshina-transliteration/runs/k95p6vca</a><br> View project at: <a href='https://wandb.ai/ma23c014-indian-institute-of-technology-madras/dakshina-transliteration' target=\"_blank\">https://wandb.ai/ma23c014-indian-institute-of-technology-madras/dakshina-transliteration</a><br>Synced 5 W&B file(s), 0 media file(s), 3 artifact file(s) and 0 other file(s)"
      ],
      "text/plain": [
       "<IPython.core.display.HTML object>"
      ]
     },
     "metadata": {},
     "output_type": "display_data"
    },
    {
     "data": {
      "text/html": [
       "Find logs at: <code>./wandb/run-20250520_085709-k95p6vca/logs</code>"
      ],
      "text/plain": [
       "<IPython.core.display.HTML object>"
      ]
     },
     "metadata": {},
     "output_type": "display_data"
    },
    {
     "name": "stderr",
     "output_type": "stream",
     "text": [
      "\u001b[34m\u001b[1mwandb\u001b[0m: Agent Starting Run: 7ohumtoj with config:\n",
      "\u001b[34m\u001b[1mwandb\u001b[0m: \tbatch_size: 64\n",
      "\u001b[34m\u001b[1mwandb\u001b[0m: \tbeam_size: 3\n",
      "\u001b[34m\u001b[1mwandb\u001b[0m: \tcell_type: LSTM\n",
      "\u001b[34m\u001b[1mwandb\u001b[0m: \tdropout: 0.3\n",
      "\u001b[34m\u001b[1mwandb\u001b[0m: \tembed_size: 128\n",
      "\u001b[34m\u001b[1mwandb\u001b[0m: \thidden_size: 128\n",
      "\u001b[34m\u001b[1mwandb\u001b[0m: \tlr: 0.00013515486056911045\n",
      "\u001b[34m\u001b[1mwandb\u001b[0m: \tnum_layers: 2\n"
     ]
    },
    {
     "data": {
      "text/html": [
       "Ignoring project 'dakshina-transliteration' when running a sweep."
      ],
      "text/plain": [
       "<IPython.core.display.HTML object>"
      ]
     },
     "metadata": {},
     "output_type": "display_data"
    },
    {
     "data": {
      "text/html": [
       "Tracking run with wandb version 0.19.9"
      ],
      "text/plain": [
       "<IPython.core.display.HTML object>"
      ]
     },
     "metadata": {},
     "output_type": "display_data"
    },
    {
     "data": {
      "text/html": [
       "Run data is saved locally in <code>/kaggle/working/wandb/run-20250520_090156-7ohumtoj</code>"
      ],
      "text/plain": [
       "<IPython.core.display.HTML object>"
      ]
     },
     "metadata": {},
     "output_type": "display_data"
    },
    {
     "data": {
      "text/html": [
       "Syncing run <strong><a href='https://wandb.ai/ma23c014-indian-institute-of-technology-madras/dakshina-transliteration/runs/7ohumtoj' target=\"_blank\">young-sweep-8</a></strong> to <a href='https://wandb.ai/ma23c014-indian-institute-of-technology-madras/dakshina-transliteration' target=\"_blank\">Weights & Biases</a> (<a href='https://wandb.me/developer-guide' target=\"_blank\">docs</a>)<br>Sweep page: <a href='https://wandb.ai/ma23c014-indian-institute-of-technology-madras/dakshina-transliteration/sweeps/vntbxx0z' target=\"_blank\">https://wandb.ai/ma23c014-indian-institute-of-technology-madras/dakshina-transliteration/sweeps/vntbxx0z</a>"
      ],
      "text/plain": [
       "<IPython.core.display.HTML object>"
      ]
     },
     "metadata": {},
     "output_type": "display_data"
    },
    {
     "data": {
      "text/html": [
       " View project at <a href='https://wandb.ai/ma23c014-indian-institute-of-technology-madras/dakshina-transliteration' target=\"_blank\">https://wandb.ai/ma23c014-indian-institute-of-technology-madras/dakshina-transliteration</a>"
      ],
      "text/plain": [
       "<IPython.core.display.HTML object>"
      ]
     },
     "metadata": {},
     "output_type": "display_data"
    },
    {
     "data": {
      "text/html": [
       " View sweep at <a href='https://wandb.ai/ma23c014-indian-institute-of-technology-madras/dakshina-transliteration/sweeps/vntbxx0z' target=\"_blank\">https://wandb.ai/ma23c014-indian-institute-of-technology-madras/dakshina-transliteration/sweeps/vntbxx0z</a>"
      ],
      "text/plain": [
       "<IPython.core.display.HTML object>"
      ]
     },
     "metadata": {},
     "output_type": "display_data"
    },
    {
     "data": {
      "text/html": [
       " View run at <a href='https://wandb.ai/ma23c014-indian-institute-of-technology-madras/dakshina-transliteration/runs/7ohumtoj' target=\"_blank\">https://wandb.ai/ma23c014-indian-institute-of-technology-madras/dakshina-transliteration/runs/7ohumtoj</a>"
      ],
      "text/plain": [
       "<IPython.core.display.HTML object>"
      ]
     },
     "metadata": {},
     "output_type": "display_data"
    },
    {
     "name": "stderr",
     "output_type": "stream",
     "text": [
      "                                                            \r"
     ]
    },
    {
     "data": {
      "text/html": [],
      "text/plain": [
       "<IPython.core.display.HTML object>"
      ]
     },
     "metadata": {},
     "output_type": "display_data"
    },
    {
     "data": {
      "text/html": [
       "<br>    <style><br>        .wandb-row {<br>            display: flex;<br>            flex-direction: row;<br>            flex-wrap: wrap;<br>            justify-content: flex-start;<br>            width: 100%;<br>        }<br>        .wandb-col {<br>            display: flex;<br>            flex-direction: column;<br>            flex-basis: 100%;<br>            flex: 1;<br>            padding: 10px;<br>        }<br>    </style><br><div class=\"wandb-row\"><div class=\"wandb-col\"><h3>Run history:</h3><br/><table class=\"wandb\"><tr><td>epoch</td><td>▁▂▃▃▄▅▆▆▇█</td></tr><tr><td>train_accuracy</td><td>▁▃▅▆▆▇▇▇██</td></tr><tr><td>train_loss</td><td>█▅▄▃▂▂▂▁▁▁</td></tr><tr><td>val_accuracy</td><td>▁▃▄▅▆▇▇▇██</td></tr><tr><td>val_loss</td><td>█▅▄▃▃▂▂▁▁▁</td></tr></table><br/></div><div class=\"wandb-col\"><h3>Run summary:</h3><br/><table class=\"wandb\"><tr><td>epoch</td><td>9</td></tr><tr><td>train_accuracy</td><td>0.6817</td></tr><tr><td>train_loss</td><td>1.02885</td></tr><tr><td>val_accuracy</td><td>0.60524</td></tr><tr><td>val_loss</td><td>1.28459</td></tr></table><br/></div></div>"
      ],
      "text/plain": [
       "<IPython.core.display.HTML object>"
      ]
     },
     "metadata": {},
     "output_type": "display_data"
    },
    {
     "data": {
      "text/html": [
       " View run <strong style=\"color:#cdcd00\">cell:LSTM_embed:128_hid:128_layers:2_beam:3</strong> at: <a href='https://wandb.ai/ma23c014-indian-institute-of-technology-madras/dakshina-transliteration/runs/7ohumtoj' target=\"_blank\">https://wandb.ai/ma23c014-indian-institute-of-technology-madras/dakshina-transliteration/runs/7ohumtoj</a><br> View project at: <a href='https://wandb.ai/ma23c014-indian-institute-of-technology-madras/dakshina-transliteration' target=\"_blank\">https://wandb.ai/ma23c014-indian-institute-of-technology-madras/dakshina-transliteration</a><br>Synced 5 W&B file(s), 0 media file(s), 3 artifact file(s) and 0 other file(s)"
      ],
      "text/plain": [
       "<IPython.core.display.HTML object>"
      ]
     },
     "metadata": {},
     "output_type": "display_data"
    },
    {
     "data": {
      "text/html": [
       "Find logs at: <code>./wandb/run-20250520_090156-7ohumtoj/logs</code>"
      ],
      "text/plain": [
       "<IPython.core.display.HTML object>"
      ]
     },
     "metadata": {},
     "output_type": "display_data"
    },
    {
     "name": "stderr",
     "output_type": "stream",
     "text": [
      "\u001b[34m\u001b[1mwandb\u001b[0m: Agent Starting Run: gvsgq94t with config:\n",
      "\u001b[34m\u001b[1mwandb\u001b[0m: \tbatch_size: 32\n",
      "\u001b[34m\u001b[1mwandb\u001b[0m: \tbeam_size: 3\n",
      "\u001b[34m\u001b[1mwandb\u001b[0m: \tcell_type: LSTM\n",
      "\u001b[34m\u001b[1mwandb\u001b[0m: \tdropout: 0.3\n",
      "\u001b[34m\u001b[1mwandb\u001b[0m: \tembed_size: 64\n",
      "\u001b[34m\u001b[1mwandb\u001b[0m: \thidden_size: 128\n",
      "\u001b[34m\u001b[1mwandb\u001b[0m: \tlr: 0.0018526487947841857\n",
      "\u001b[34m\u001b[1mwandb\u001b[0m: \tnum_layers: 1\n"
     ]
    },
    {
     "data": {
      "text/html": [
       "Ignoring project 'dakshina-transliteration' when running a sweep."
      ],
      "text/plain": [
       "<IPython.core.display.HTML object>"
      ]
     },
     "metadata": {},
     "output_type": "display_data"
    },
    {
     "data": {
      "text/html": [
       "Tracking run with wandb version 0.19.9"
      ],
      "text/plain": [
       "<IPython.core.display.HTML object>"
      ]
     },
     "metadata": {},
     "output_type": "display_data"
    },
    {
     "data": {
      "text/html": [
       "Run data is saved locally in <code>/kaggle/working/wandb/run-20250520_090528-gvsgq94t</code>"
      ],
      "text/plain": [
       "<IPython.core.display.HTML object>"
      ]
     },
     "metadata": {},
     "output_type": "display_data"
    },
    {
     "data": {
      "text/html": [
       "Syncing run <strong><a href='https://wandb.ai/ma23c014-indian-institute-of-technology-madras/dakshina-transliteration/runs/gvsgq94t' target=\"_blank\">fearless-sweep-9</a></strong> to <a href='https://wandb.ai/ma23c014-indian-institute-of-technology-madras/dakshina-transliteration' target=\"_blank\">Weights & Biases</a> (<a href='https://wandb.me/developer-guide' target=\"_blank\">docs</a>)<br>Sweep page: <a href='https://wandb.ai/ma23c014-indian-institute-of-technology-madras/dakshina-transliteration/sweeps/vntbxx0z' target=\"_blank\">https://wandb.ai/ma23c014-indian-institute-of-technology-madras/dakshina-transliteration/sweeps/vntbxx0z</a>"
      ],
      "text/plain": [
       "<IPython.core.display.HTML object>"
      ]
     },
     "metadata": {},
     "output_type": "display_data"
    },
    {
     "data": {
      "text/html": [
       " View project at <a href='https://wandb.ai/ma23c014-indian-institute-of-technology-madras/dakshina-transliteration' target=\"_blank\">https://wandb.ai/ma23c014-indian-institute-of-technology-madras/dakshina-transliteration</a>"
      ],
      "text/plain": [
       "<IPython.core.display.HTML object>"
      ]
     },
     "metadata": {},
     "output_type": "display_data"
    },
    {
     "data": {
      "text/html": [
       " View sweep at <a href='https://wandb.ai/ma23c014-indian-institute-of-technology-madras/dakshina-transliteration/sweeps/vntbxx0z' target=\"_blank\">https://wandb.ai/ma23c014-indian-institute-of-technology-madras/dakshina-transliteration/sweeps/vntbxx0z</a>"
      ],
      "text/plain": [
       "<IPython.core.display.HTML object>"
      ]
     },
     "metadata": {},
     "output_type": "display_data"
    },
    {
     "data": {
      "text/html": [
       " View run at <a href='https://wandb.ai/ma23c014-indian-institute-of-technology-madras/dakshina-transliteration/runs/gvsgq94t' target=\"_blank\">https://wandb.ai/ma23c014-indian-institute-of-technology-madras/dakshina-transliteration/runs/gvsgq94t</a>"
      ],
      "text/plain": [
       "<IPython.core.display.HTML object>"
      ]
     },
     "metadata": {},
     "output_type": "display_data"
    },
    {
     "name": "stderr",
     "output_type": "stream",
     "text": [
      "                                                              \r"
     ]
    },
    {
     "data": {
      "text/html": [],
      "text/plain": [
       "<IPython.core.display.HTML object>"
      ]
     },
     "metadata": {},
     "output_type": "display_data"
    },
    {
     "data": {
      "text/html": [
       "<br>    <style><br>        .wandb-row {<br>            display: flex;<br>            flex-direction: row;<br>            flex-wrap: wrap;<br>            justify-content: flex-start;<br>            width: 100%;<br>        }<br>        .wandb-col {<br>            display: flex;<br>            flex-direction: column;<br>            flex-basis: 100%;<br>            flex: 1;<br>            padding: 10px;<br>        }<br>    </style><br><div class=\"wandb-row\"><div class=\"wandb-col\"><h3>Run history:</h3><br/><table class=\"wandb\"><tr><td>epoch</td><td>▁▂▃▃▄▅▆▆▇█</td></tr><tr><td>train_accuracy</td><td>▁▅▆▇▇▇▇███</td></tr><tr><td>train_loss</td><td>█▄▃▂▂▂▁▁▁▁</td></tr><tr><td>val_accuracy</td><td>▁▄▆▇▇▇████</td></tr><tr><td>val_loss</td><td>█▄▂▁▁▂▂▂▂▂</td></tr></table><br/></div><div class=\"wandb-col\"><h3>Run summary:</h3><br/><table class=\"wandb\"><tr><td>epoch</td><td>9</td></tr><tr><td>train_accuracy</td><td>0.85848</td></tr><tr><td>train_loss</td><td>0.47855</td></tr><tr><td>val_accuracy</td><td>0.67931</td></tr><tr><td>val_loss</td><td>1.19754</td></tr></table><br/></div></div>"
      ],
      "text/plain": [
       "<IPython.core.display.HTML object>"
      ]
     },
     "metadata": {},
     "output_type": "display_data"
    },
    {
     "data": {
      "text/html": [
       " View run <strong style=\"color:#cdcd00\">cell:LSTM_embed:64_hid:128_layers:1_beam:3</strong> at: <a href='https://wandb.ai/ma23c014-indian-institute-of-technology-madras/dakshina-transliteration/runs/gvsgq94t' target=\"_blank\">https://wandb.ai/ma23c014-indian-institute-of-technology-madras/dakshina-transliteration/runs/gvsgq94t</a><br> View project at: <a href='https://wandb.ai/ma23c014-indian-institute-of-technology-madras/dakshina-transliteration' target=\"_blank\">https://wandb.ai/ma23c014-indian-institute-of-technology-madras/dakshina-transliteration</a><br>Synced 5 W&B file(s), 0 media file(s), 3 artifact file(s) and 0 other file(s)"
      ],
      "text/plain": [
       "<IPython.core.display.HTML object>"
      ]
     },
     "metadata": {},
     "output_type": "display_data"
    },
    {
     "data": {
      "text/html": [
       "Find logs at: <code>./wandb/run-20250520_090528-gvsgq94t/logs</code>"
      ],
      "text/plain": [
       "<IPython.core.display.HTML object>"
      ]
     },
     "metadata": {},
     "output_type": "display_data"
    },
    {
     "name": "stderr",
     "output_type": "stream",
     "text": [
      "\u001b[34m\u001b[1mwandb\u001b[0m: Agent Starting Run: 5exdjly0 with config:\n",
      "\u001b[34m\u001b[1mwandb\u001b[0m: \tbatch_size: 32\n",
      "\u001b[34m\u001b[1mwandb\u001b[0m: \tbeam_size: 5\n",
      "\u001b[34m\u001b[1mwandb\u001b[0m: \tcell_type: LSTM\n",
      "\u001b[34m\u001b[1mwandb\u001b[0m: \tdropout: 0.3\n",
      "\u001b[34m\u001b[1mwandb\u001b[0m: \tembed_size: 128\n",
      "\u001b[34m\u001b[1mwandb\u001b[0m: \thidden_size: 128\n",
      "\u001b[34m\u001b[1mwandb\u001b[0m: \tlr: 0.003024107884273066\n",
      "\u001b[34m\u001b[1mwandb\u001b[0m: \tnum_layers: 1\n"
     ]
    },
    {
     "data": {
      "text/html": [
       "Ignoring project 'dakshina-transliteration' when running a sweep."
      ],
      "text/plain": [
       "<IPython.core.display.HTML object>"
      ]
     },
     "metadata": {},
     "output_type": "display_data"
    },
    {
     "data": {
      "text/html": [
       "Tracking run with wandb version 0.19.9"
      ],
      "text/plain": [
       "<IPython.core.display.HTML object>"
      ]
     },
     "metadata": {},
     "output_type": "display_data"
    },
    {
     "data": {
      "text/html": [
       "Run data is saved locally in <code>/kaggle/working/wandb/run-20250520_091021-5exdjly0</code>"
      ],
      "text/plain": [
       "<IPython.core.display.HTML object>"
      ]
     },
     "metadata": {},
     "output_type": "display_data"
    },
    {
     "data": {
      "text/html": [
       "Syncing run <strong><a href='https://wandb.ai/ma23c014-indian-institute-of-technology-madras/dakshina-transliteration/runs/5exdjly0' target=\"_blank\">fluent-sweep-10</a></strong> to <a href='https://wandb.ai/ma23c014-indian-institute-of-technology-madras/dakshina-transliteration' target=\"_blank\">Weights & Biases</a> (<a href='https://wandb.me/developer-guide' target=\"_blank\">docs</a>)<br>Sweep page: <a href='https://wandb.ai/ma23c014-indian-institute-of-technology-madras/dakshina-transliteration/sweeps/vntbxx0z' target=\"_blank\">https://wandb.ai/ma23c014-indian-institute-of-technology-madras/dakshina-transliteration/sweeps/vntbxx0z</a>"
      ],
      "text/plain": [
       "<IPython.core.display.HTML object>"
      ]
     },
     "metadata": {},
     "output_type": "display_data"
    },
    {
     "data": {
      "text/html": [
       " View project at <a href='https://wandb.ai/ma23c014-indian-institute-of-technology-madras/dakshina-transliteration' target=\"_blank\">https://wandb.ai/ma23c014-indian-institute-of-technology-madras/dakshina-transliteration</a>"
      ],
      "text/plain": [
       "<IPython.core.display.HTML object>"
      ]
     },
     "metadata": {},
     "output_type": "display_data"
    },
    {
     "data": {
      "text/html": [
       " View sweep at <a href='https://wandb.ai/ma23c014-indian-institute-of-technology-madras/dakshina-transliteration/sweeps/vntbxx0z' target=\"_blank\">https://wandb.ai/ma23c014-indian-institute-of-technology-madras/dakshina-transliteration/sweeps/vntbxx0z</a>"
      ],
      "text/plain": [
       "<IPython.core.display.HTML object>"
      ]
     },
     "metadata": {},
     "output_type": "display_data"
    },
    {
     "data": {
      "text/html": [
       " View run at <a href='https://wandb.ai/ma23c014-indian-institute-of-technology-madras/dakshina-transliteration/runs/5exdjly0' target=\"_blank\">https://wandb.ai/ma23c014-indian-institute-of-technology-madras/dakshina-transliteration/runs/5exdjly0</a>"
      ],
      "text/plain": [
       "<IPython.core.display.HTML object>"
      ]
     },
     "metadata": {},
     "output_type": "display_data"
    },
    {
     "name": "stderr",
     "output_type": "stream",
     "text": [
      "                                                              \r"
     ]
    },
    {
     "data": {
      "text/html": [],
      "text/plain": [
       "<IPython.core.display.HTML object>"
      ]
     },
     "metadata": {},
     "output_type": "display_data"
    },
    {
     "data": {
      "text/html": [
       "<br>    <style><br>        .wandb-row {<br>            display: flex;<br>            flex-direction: row;<br>            flex-wrap: wrap;<br>            justify-content: flex-start;<br>            width: 100%;<br>        }<br>        .wandb-col {<br>            display: flex;<br>            flex-direction: column;<br>            flex-basis: 100%;<br>            flex: 1;<br>            padding: 10px;<br>        }<br>    </style><br><div class=\"wandb-row\"><div class=\"wandb-col\"><h3>Run history:</h3><br/><table class=\"wandb\"><tr><td>epoch</td><td>▁▂▃▃▄▅▆▆▇█</td></tr><tr><td>train_accuracy</td><td>▁▅▆▆▇▇████</td></tr><tr><td>train_loss</td><td>█▄▃▂▂▂▁▁▁▁</td></tr><tr><td>val_accuracy</td><td>▁▅▆▇▇█████</td></tr><tr><td>val_loss</td><td>█▃▃▂▁▁▂▂▂▃</td></tr></table><br/></div><div class=\"wandb-col\"><h3>Run summary:</h3><br/><table class=\"wandb\"><tr><td>epoch</td><td>9</td></tr><tr><td>train_accuracy</td><td>0.82871</td></tr><tr><td>train_loss</td><td>0.57507</td></tr><tr><td>val_accuracy</td><td>0.65638</td></tr><tr><td>val_loss</td><td>1.27698</td></tr></table><br/></div></div>"
      ],
      "text/plain": [
       "<IPython.core.display.HTML object>"
      ]
     },
     "metadata": {},
     "output_type": "display_data"
    },
    {
     "data": {
      "text/html": [
       " View run <strong style=\"color:#cdcd00\">cell:LSTM_embed:128_hid:128_layers:1_beam:5</strong> at: <a href='https://wandb.ai/ma23c014-indian-institute-of-technology-madras/dakshina-transliteration/runs/5exdjly0' target=\"_blank\">https://wandb.ai/ma23c014-indian-institute-of-technology-madras/dakshina-transliteration/runs/5exdjly0</a><br> View project at: <a href='https://wandb.ai/ma23c014-indian-institute-of-technology-madras/dakshina-transliteration' target=\"_blank\">https://wandb.ai/ma23c014-indian-institute-of-technology-madras/dakshina-transliteration</a><br>Synced 5 W&B file(s), 0 media file(s), 3 artifact file(s) and 0 other file(s)"
      ],
      "text/plain": [
       "<IPython.core.display.HTML object>"
      ]
     },
     "metadata": {},
     "output_type": "display_data"
    },
    {
     "data": {
      "text/html": [
       "Find logs at: <code>./wandb/run-20250520_091021-5exdjly0/logs</code>"
      ],
      "text/plain": [
       "<IPython.core.display.HTML object>"
      ]
     },
     "metadata": {},
     "output_type": "display_data"
    },
    {
     "name": "stderr",
     "output_type": "stream",
     "text": [
      "\u001b[34m\u001b[1mwandb\u001b[0m: Agent Starting Run: 5nqdg3ve with config:\n",
      "\u001b[34m\u001b[1mwandb\u001b[0m: \tbatch_size: 64\n",
      "\u001b[34m\u001b[1mwandb\u001b[0m: \tbeam_size: 3\n",
      "\u001b[34m\u001b[1mwandb\u001b[0m: \tcell_type: LSTM\n",
      "\u001b[34m\u001b[1mwandb\u001b[0m: \tdropout: 0.3\n",
      "\u001b[34m\u001b[1mwandb\u001b[0m: \tembed_size: 128\n",
      "\u001b[34m\u001b[1mwandb\u001b[0m: \thidden_size: 128\n",
      "\u001b[34m\u001b[1mwandb\u001b[0m: \tlr: 0.001882357489943128\n",
      "\u001b[34m\u001b[1mwandb\u001b[0m: \tnum_layers: 1\n"
     ]
    },
    {
     "data": {
      "text/html": [
       "Ignoring project 'dakshina-transliteration' when running a sweep."
      ],
      "text/plain": [
       "<IPython.core.display.HTML object>"
      ]
     },
     "metadata": {},
     "output_type": "display_data"
    },
    {
     "data": {
      "text/html": [
       "Tracking run with wandb version 0.19.9"
      ],
      "text/plain": [
       "<IPython.core.display.HTML object>"
      ]
     },
     "metadata": {},
     "output_type": "display_data"
    },
    {
     "data": {
      "text/html": [
       "Run data is saved locally in <code>/kaggle/working/wandb/run-20250520_091514-5nqdg3ve</code>"
      ],
      "text/plain": [
       "<IPython.core.display.HTML object>"
      ]
     },
     "metadata": {},
     "output_type": "display_data"
    },
    {
     "data": {
      "text/html": [
       "Syncing run <strong><a href='https://wandb.ai/ma23c014-indian-institute-of-technology-madras/dakshina-transliteration/runs/5nqdg3ve' target=\"_blank\">smart-sweep-11</a></strong> to <a href='https://wandb.ai/ma23c014-indian-institute-of-technology-madras/dakshina-transliteration' target=\"_blank\">Weights & Biases</a> (<a href='https://wandb.me/developer-guide' target=\"_blank\">docs</a>)<br>Sweep page: <a href='https://wandb.ai/ma23c014-indian-institute-of-technology-madras/dakshina-transliteration/sweeps/vntbxx0z' target=\"_blank\">https://wandb.ai/ma23c014-indian-institute-of-technology-madras/dakshina-transliteration/sweeps/vntbxx0z</a>"
      ],
      "text/plain": [
       "<IPython.core.display.HTML object>"
      ]
     },
     "metadata": {},
     "output_type": "display_data"
    },
    {
     "data": {
      "text/html": [
       " View project at <a href='https://wandb.ai/ma23c014-indian-institute-of-technology-madras/dakshina-transliteration' target=\"_blank\">https://wandb.ai/ma23c014-indian-institute-of-technology-madras/dakshina-transliteration</a>"
      ],
      "text/plain": [
       "<IPython.core.display.HTML object>"
      ]
     },
     "metadata": {},
     "output_type": "display_data"
    },
    {
     "data": {
      "text/html": [
       " View sweep at <a href='https://wandb.ai/ma23c014-indian-institute-of-technology-madras/dakshina-transliteration/sweeps/vntbxx0z' target=\"_blank\">https://wandb.ai/ma23c014-indian-institute-of-technology-madras/dakshina-transliteration/sweeps/vntbxx0z</a>"
      ],
      "text/plain": [
       "<IPython.core.display.HTML object>"
      ]
     },
     "metadata": {},
     "output_type": "display_data"
    },
    {
     "data": {
      "text/html": [
       " View run at <a href='https://wandb.ai/ma23c014-indian-institute-of-technology-madras/dakshina-transliteration/runs/5nqdg3ve' target=\"_blank\">https://wandb.ai/ma23c014-indian-institute-of-technology-madras/dakshina-transliteration/runs/5nqdg3ve</a>"
      ],
      "text/plain": [
       "<IPython.core.display.HTML object>"
      ]
     },
     "metadata": {},
     "output_type": "display_data"
    },
    {
     "name": "stderr",
     "output_type": "stream",
     "text": [
      "                                                            \r"
     ]
    },
    {
     "data": {
      "text/html": [],
      "text/plain": [
       "<IPython.core.display.HTML object>"
      ]
     },
     "metadata": {},
     "output_type": "display_data"
    },
    {
     "data": {
      "text/html": [
       "<br>    <style><br>        .wandb-row {<br>            display: flex;<br>            flex-direction: row;<br>            flex-wrap: wrap;<br>            justify-content: flex-start;<br>            width: 100%;<br>        }<br>        .wandb-col {<br>            display: flex;<br>            flex-direction: column;<br>            flex-basis: 100%;<br>            flex: 1;<br>            padding: 10px;<br>        }<br>    </style><br><div class=\"wandb-row\"><div class=\"wandb-col\"><h3>Run history:</h3><br/><table class=\"wandb\"><tr><td>epoch</td><td>▁▂▃▃▄▅▆▆▇█</td></tr><tr><td>train_accuracy</td><td>▁▅▆▆▇▇▇███</td></tr><tr><td>train_loss</td><td>█▄▃▂▂▂▂▁▁▁</td></tr><tr><td>val_accuracy</td><td>▁▄▆▆▇▇████</td></tr><tr><td>val_loss</td><td>█▄▃▂▂▁▁▁▁▁</td></tr></table><br/></div><div class=\"wandb-col\"><h3>Run summary:</h3><br/><table class=\"wandb\"><tr><td>epoch</td><td>9</td></tr><tr><td>train_accuracy</td><td>0.83835</td></tr><tr><td>train_loss</td><td>0.54706</td></tr><tr><td>val_accuracy</td><td>0.66922</td></tr><tr><td>val_loss</td><td>1.2018</td></tr></table><br/></div></div>"
      ],
      "text/plain": [
       "<IPython.core.display.HTML object>"
      ]
     },
     "metadata": {},
     "output_type": "display_data"
    },
    {
     "data": {
      "text/html": [
       " View run <strong style=\"color:#cdcd00\">cell:LSTM_embed:128_hid:128_layers:1_beam:3</strong> at: <a href='https://wandb.ai/ma23c014-indian-institute-of-technology-madras/dakshina-transliteration/runs/5nqdg3ve' target=\"_blank\">https://wandb.ai/ma23c014-indian-institute-of-technology-madras/dakshina-transliteration/runs/5nqdg3ve</a><br> View project at: <a href='https://wandb.ai/ma23c014-indian-institute-of-technology-madras/dakshina-transliteration' target=\"_blank\">https://wandb.ai/ma23c014-indian-institute-of-technology-madras/dakshina-transliteration</a><br>Synced 5 W&B file(s), 0 media file(s), 3 artifact file(s) and 0 other file(s)"
      ],
      "text/plain": [
       "<IPython.core.display.HTML object>"
      ]
     },
     "metadata": {},
     "output_type": "display_data"
    },
    {
     "data": {
      "text/html": [
       "Find logs at: <code>./wandb/run-20250520_091514-5nqdg3ve/logs</code>"
      ],
      "text/plain": [
       "<IPython.core.display.HTML object>"
      ]
     },
     "metadata": {},
     "output_type": "display_data"
    },
    {
     "name": "stderr",
     "output_type": "stream",
     "text": [
      "\u001b[34m\u001b[1mwandb\u001b[0m: Agent Starting Run: p7cv3fxs with config:\n",
      "\u001b[34m\u001b[1mwandb\u001b[0m: \tbatch_size: 64\n",
      "\u001b[34m\u001b[1mwandb\u001b[0m: \tbeam_size: 5\n",
      "\u001b[34m\u001b[1mwandb\u001b[0m: \tcell_type: GRU\n",
      "\u001b[34m\u001b[1mwandb\u001b[0m: \tdropout: 0.3\n",
      "\u001b[34m\u001b[1mwandb\u001b[0m: \tembed_size: 128\n",
      "\u001b[34m\u001b[1mwandb\u001b[0m: \thidden_size: 128\n",
      "\u001b[34m\u001b[1mwandb\u001b[0m: \tlr: 0.0022865282010076627\n",
      "\u001b[34m\u001b[1mwandb\u001b[0m: \tnum_layers: 1\n"
     ]
    },
    {
     "data": {
      "text/html": [
       "Ignoring project 'dakshina-transliteration' when running a sweep."
      ],
      "text/plain": [
       "<IPython.core.display.HTML object>"
      ]
     },
     "metadata": {},
     "output_type": "display_data"
    },
    {
     "data": {
      "text/html": [
       "Tracking run with wandb version 0.19.9"
      ],
      "text/plain": [
       "<IPython.core.display.HTML object>"
      ]
     },
     "metadata": {},
     "output_type": "display_data"
    },
    {
     "data": {
      "text/html": [
       "Run data is saved locally in <code>/kaggle/working/wandb/run-20250520_091806-p7cv3fxs</code>"
      ],
      "text/plain": [
       "<IPython.core.display.HTML object>"
      ]
     },
     "metadata": {},
     "output_type": "display_data"
    },
    {
     "data": {
      "text/html": [
       "Syncing run <strong><a href='https://wandb.ai/ma23c014-indian-institute-of-technology-madras/dakshina-transliteration/runs/p7cv3fxs' target=\"_blank\">crimson-sweep-12</a></strong> to <a href='https://wandb.ai/ma23c014-indian-institute-of-technology-madras/dakshina-transliteration' target=\"_blank\">Weights & Biases</a> (<a href='https://wandb.me/developer-guide' target=\"_blank\">docs</a>)<br>Sweep page: <a href='https://wandb.ai/ma23c014-indian-institute-of-technology-madras/dakshina-transliteration/sweeps/vntbxx0z' target=\"_blank\">https://wandb.ai/ma23c014-indian-institute-of-technology-madras/dakshina-transliteration/sweeps/vntbxx0z</a>"
      ],
      "text/plain": [
       "<IPython.core.display.HTML object>"
      ]
     },
     "metadata": {},
     "output_type": "display_data"
    },
    {
     "data": {
      "text/html": [
       " View project at <a href='https://wandb.ai/ma23c014-indian-institute-of-technology-madras/dakshina-transliteration' target=\"_blank\">https://wandb.ai/ma23c014-indian-institute-of-technology-madras/dakshina-transliteration</a>"
      ],
      "text/plain": [
       "<IPython.core.display.HTML object>"
      ]
     },
     "metadata": {},
     "output_type": "display_data"
    },
    {
     "data": {
      "text/html": [
       " View sweep at <a href='https://wandb.ai/ma23c014-indian-institute-of-technology-madras/dakshina-transliteration/sweeps/vntbxx0z' target=\"_blank\">https://wandb.ai/ma23c014-indian-institute-of-technology-madras/dakshina-transliteration/sweeps/vntbxx0z</a>"
      ],
      "text/plain": [
       "<IPython.core.display.HTML object>"
      ]
     },
     "metadata": {},
     "output_type": "display_data"
    },
    {
     "data": {
      "text/html": [
       " View run at <a href='https://wandb.ai/ma23c014-indian-institute-of-technology-madras/dakshina-transliteration/runs/p7cv3fxs' target=\"_blank\">https://wandb.ai/ma23c014-indian-institute-of-technology-madras/dakshina-transliteration/runs/p7cv3fxs</a>"
      ],
      "text/plain": [
       "<IPython.core.display.HTML object>"
      ]
     },
     "metadata": {},
     "output_type": "display_data"
    },
    {
     "name": "stderr",
     "output_type": "stream",
     "text": [
      "                                                            \r"
     ]
    },
    {
     "data": {
      "text/html": [],
      "text/plain": [
       "<IPython.core.display.HTML object>"
      ]
     },
     "metadata": {},
     "output_type": "display_data"
    },
    {
     "data": {
      "text/html": [
       "<br>    <style><br>        .wandb-row {<br>            display: flex;<br>            flex-direction: row;<br>            flex-wrap: wrap;<br>            justify-content: flex-start;<br>            width: 100%;<br>        }<br>        .wandb-col {<br>            display: flex;<br>            flex-direction: column;<br>            flex-basis: 100%;<br>            flex: 1;<br>            padding: 10px;<br>        }<br>    </style><br><div class=\"wandb-row\"><div class=\"wandb-col\"><h3>Run history:</h3><br/><table class=\"wandb\"><tr><td>epoch</td><td>▁▂▃▃▄▅▆▆▇█</td></tr><tr><td>train_accuracy</td><td>▁▅▆▇▇▇▇███</td></tr><tr><td>train_loss</td><td>█▄▃▂▂▂▁▁▁▁</td></tr><tr><td>val_accuracy</td><td>▁▅▆▆▇▇▇██▇</td></tr><tr><td>val_loss</td><td>█▄▂▃▃▂▂▁▂▂</td></tr></table><br/></div><div class=\"wandb-col\"><h3>Run summary:</h3><br/><table class=\"wandb\"><tr><td>epoch</td><td>9</td></tr><tr><td>train_accuracy</td><td>0.81978</td></tr><tr><td>train_loss</td><td>0.60606</td></tr><tr><td>val_accuracy</td><td>0.65439</td></tr><tr><td>val_loss</td><td>1.24177</td></tr></table><br/></div></div>"
      ],
      "text/plain": [
       "<IPython.core.display.HTML object>"
      ]
     },
     "metadata": {},
     "output_type": "display_data"
    },
    {
     "data": {
      "text/html": [
       " View run <strong style=\"color:#cdcd00\">cell:GRU_embed:128_hid:128_layers:1_beam:5</strong> at: <a href='https://wandb.ai/ma23c014-indian-institute-of-technology-madras/dakshina-transliteration/runs/p7cv3fxs' target=\"_blank\">https://wandb.ai/ma23c014-indian-institute-of-technology-madras/dakshina-transliteration/runs/p7cv3fxs</a><br> View project at: <a href='https://wandb.ai/ma23c014-indian-institute-of-technology-madras/dakshina-transliteration' target=\"_blank\">https://wandb.ai/ma23c014-indian-institute-of-technology-madras/dakshina-transliteration</a><br>Synced 5 W&B file(s), 0 media file(s), 3 artifact file(s) and 0 other file(s)"
      ],
      "text/plain": [
       "<IPython.core.display.HTML object>"
      ]
     },
     "metadata": {},
     "output_type": "display_data"
    },
    {
     "data": {
      "text/html": [
       "Find logs at: <code>./wandb/run-20250520_091806-p7cv3fxs/logs</code>"
      ],
      "text/plain": [
       "<IPython.core.display.HTML object>"
      ]
     },
     "metadata": {},
     "output_type": "display_data"
    },
    {
     "name": "stderr",
     "output_type": "stream",
     "text": [
      "\u001b[34m\u001b[1mwandb\u001b[0m: Agent Starting Run: bumtnwsu with config:\n",
      "\u001b[34m\u001b[1mwandb\u001b[0m: \tbatch_size: 64\n",
      "\u001b[34m\u001b[1mwandb\u001b[0m: \tbeam_size: 5\n",
      "\u001b[34m\u001b[1mwandb\u001b[0m: \tcell_type: LSTM\n",
      "\u001b[34m\u001b[1mwandb\u001b[0m: \tdropout: 0.3\n",
      "\u001b[34m\u001b[1mwandb\u001b[0m: \tembed_size: 64\n",
      "\u001b[34m\u001b[1mwandb\u001b[0m: \thidden_size: 128\n",
      "\u001b[34m\u001b[1mwandb\u001b[0m: \tlr: 0.0009053580454511916\n",
      "\u001b[34m\u001b[1mwandb\u001b[0m: \tnum_layers: 1\n"
     ]
    },
    {
     "data": {
      "text/html": [
       "Ignoring project 'dakshina-transliteration' when running a sweep."
      ],
      "text/plain": [
       "<IPython.core.display.HTML object>"
      ]
     },
     "metadata": {},
     "output_type": "display_data"
    },
    {
     "data": {
      "text/html": [
       "Tracking run with wandb version 0.19.9"
      ],
      "text/plain": [
       "<IPython.core.display.HTML object>"
      ]
     },
     "metadata": {},
     "output_type": "display_data"
    },
    {
     "data": {
      "text/html": [
       "Run data is saved locally in <code>/kaggle/working/wandb/run-20250520_092052-bumtnwsu</code>"
      ],
      "text/plain": [
       "<IPython.core.display.HTML object>"
      ]
     },
     "metadata": {},
     "output_type": "display_data"
    },
    {
     "data": {
      "text/html": [
       "Syncing run <strong><a href='https://wandb.ai/ma23c014-indian-institute-of-technology-madras/dakshina-transliteration/runs/bumtnwsu' target=\"_blank\">crimson-sweep-13</a></strong> to <a href='https://wandb.ai/ma23c014-indian-institute-of-technology-madras/dakshina-transliteration' target=\"_blank\">Weights & Biases</a> (<a href='https://wandb.me/developer-guide' target=\"_blank\">docs</a>)<br>Sweep page: <a href='https://wandb.ai/ma23c014-indian-institute-of-technology-madras/dakshina-transliteration/sweeps/vntbxx0z' target=\"_blank\">https://wandb.ai/ma23c014-indian-institute-of-technology-madras/dakshina-transliteration/sweeps/vntbxx0z</a>"
      ],
      "text/plain": [
       "<IPython.core.display.HTML object>"
      ]
     },
     "metadata": {},
     "output_type": "display_data"
    },
    {
     "data": {
      "text/html": [
       " View project at <a href='https://wandb.ai/ma23c014-indian-institute-of-technology-madras/dakshina-transliteration' target=\"_blank\">https://wandb.ai/ma23c014-indian-institute-of-technology-madras/dakshina-transliteration</a>"
      ],
      "text/plain": [
       "<IPython.core.display.HTML object>"
      ]
     },
     "metadata": {},
     "output_type": "display_data"
    },
    {
     "data": {
      "text/html": [
       " View sweep at <a href='https://wandb.ai/ma23c014-indian-institute-of-technology-madras/dakshina-transliteration/sweeps/vntbxx0z' target=\"_blank\">https://wandb.ai/ma23c014-indian-institute-of-technology-madras/dakshina-transliteration/sweeps/vntbxx0z</a>"
      ],
      "text/plain": [
       "<IPython.core.display.HTML object>"
      ]
     },
     "metadata": {},
     "output_type": "display_data"
    },
    {
     "data": {
      "text/html": [
       " View run at <a href='https://wandb.ai/ma23c014-indian-institute-of-technology-madras/dakshina-transliteration/runs/bumtnwsu' target=\"_blank\">https://wandb.ai/ma23c014-indian-institute-of-technology-madras/dakshina-transliteration/runs/bumtnwsu</a>"
      ],
      "text/plain": [
       "<IPython.core.display.HTML object>"
      ]
     },
     "metadata": {},
     "output_type": "display_data"
    },
    {
     "name": "stderr",
     "output_type": "stream",
     "text": [
      "                                                            \r"
     ]
    },
    {
     "data": {
      "text/html": [],
      "text/plain": [
       "<IPython.core.display.HTML object>"
      ]
     },
     "metadata": {},
     "output_type": "display_data"
    },
    {
     "data": {
      "text/html": [
       "<br>    <style><br>        .wandb-row {<br>            display: flex;<br>            flex-direction: row;<br>            flex-wrap: wrap;<br>            justify-content: flex-start;<br>            width: 100%;<br>        }<br>        .wandb-col {<br>            display: flex;<br>            flex-direction: column;<br>            flex-basis: 100%;<br>            flex: 1;<br>            padding: 10px;<br>        }<br>    </style><br><div class=\"wandb-row\"><div class=\"wandb-col\"><h3>Run history:</h3><br/><table class=\"wandb\"><tr><td>epoch</td><td>▁▂▃▃▄▅▆▆▇█</td></tr><tr><td>train_accuracy</td><td>▁▄▆▆▇▇▇███</td></tr><tr><td>train_loss</td><td>█▄▃▂▂▂▁▁▁▁</td></tr><tr><td>val_accuracy</td><td>▁▄▆▆▇▇████</td></tr><tr><td>val_loss</td><td>█▅▃▂▂▁▁▁▁▁</td></tr></table><br/></div><div class=\"wandb-col\"><h3>Run summary:</h3><br/><table class=\"wandb\"><tr><td>epoch</td><td>9</td></tr><tr><td>train_accuracy</td><td>0.81936</td></tr><tr><td>train_loss</td><td>0.60462</td></tr><tr><td>val_accuracy</td><td>0.66911</td></tr><tr><td>val_loss</td><td>1.18925</td></tr></table><br/></div></div>"
      ],
      "text/plain": [
       "<IPython.core.display.HTML object>"
      ]
     },
     "metadata": {},
     "output_type": "display_data"
    },
    {
     "data": {
      "text/html": [
       " View run <strong style=\"color:#cdcd00\">cell:LSTM_embed:64_hid:128_layers:1_beam:5</strong> at: <a href='https://wandb.ai/ma23c014-indian-institute-of-technology-madras/dakshina-transliteration/runs/bumtnwsu' target=\"_blank\">https://wandb.ai/ma23c014-indian-institute-of-technology-madras/dakshina-transliteration/runs/bumtnwsu</a><br> View project at: <a href='https://wandb.ai/ma23c014-indian-institute-of-technology-madras/dakshina-transliteration' target=\"_blank\">https://wandb.ai/ma23c014-indian-institute-of-technology-madras/dakshina-transliteration</a><br>Synced 5 W&B file(s), 0 media file(s), 3 artifact file(s) and 0 other file(s)"
      ],
      "text/plain": [
       "<IPython.core.display.HTML object>"
      ]
     },
     "metadata": {},
     "output_type": "display_data"
    },
    {
     "data": {
      "text/html": [
       "Find logs at: <code>./wandb/run-20250520_092052-bumtnwsu/logs</code>"
      ],
      "text/plain": [
       "<IPython.core.display.HTML object>"
      ]
     },
     "metadata": {},
     "output_type": "display_data"
    },
    {
     "name": "stderr",
     "output_type": "stream",
     "text": [
      "\u001b[34m\u001b[1mwandb\u001b[0m: Agent Starting Run: 9nfnprcr with config:\n",
      "\u001b[34m\u001b[1mwandb\u001b[0m: \tbatch_size: 32\n",
      "\u001b[34m\u001b[1mwandb\u001b[0m: \tbeam_size: 5\n",
      "\u001b[34m\u001b[1mwandb\u001b[0m: \tcell_type: LSTM\n",
      "\u001b[34m\u001b[1mwandb\u001b[0m: \tdropout: 0.3\n",
      "\u001b[34m\u001b[1mwandb\u001b[0m: \tembed_size: 128\n",
      "\u001b[34m\u001b[1mwandb\u001b[0m: \thidden_size: 128\n",
      "\u001b[34m\u001b[1mwandb\u001b[0m: \tlr: 0.0013424154209032198\n",
      "\u001b[34m\u001b[1mwandb\u001b[0m: \tnum_layers: 1\n"
     ]
    },
    {
     "data": {
      "text/html": [
       "Ignoring project 'dakshina-transliteration' when running a sweep."
      ],
      "text/plain": [
       "<IPython.core.display.HTML object>"
      ]
     },
     "metadata": {},
     "output_type": "display_data"
    },
    {
     "data": {
      "text/html": [
       "Tracking run with wandb version 0.19.9"
      ],
      "text/plain": [
       "<IPython.core.display.HTML object>"
      ]
     },
     "metadata": {},
     "output_type": "display_data"
    },
    {
     "data": {
      "text/html": [
       "Run data is saved locally in <code>/kaggle/working/wandb/run-20250520_092343-9nfnprcr</code>"
      ],
      "text/plain": [
       "<IPython.core.display.HTML object>"
      ]
     },
     "metadata": {},
     "output_type": "display_data"
    },
    {
     "data": {
      "text/html": [
       "Syncing run <strong><a href='https://wandb.ai/ma23c014-indian-institute-of-technology-madras/dakshina-transliteration/runs/9nfnprcr' target=\"_blank\">dry-sweep-14</a></strong> to <a href='https://wandb.ai/ma23c014-indian-institute-of-technology-madras/dakshina-transliteration' target=\"_blank\">Weights & Biases</a> (<a href='https://wandb.me/developer-guide' target=\"_blank\">docs</a>)<br>Sweep page: <a href='https://wandb.ai/ma23c014-indian-institute-of-technology-madras/dakshina-transliteration/sweeps/vntbxx0z' target=\"_blank\">https://wandb.ai/ma23c014-indian-institute-of-technology-madras/dakshina-transliteration/sweeps/vntbxx0z</a>"
      ],
      "text/plain": [
       "<IPython.core.display.HTML object>"
      ]
     },
     "metadata": {},
     "output_type": "display_data"
    },
    {
     "data": {
      "text/html": [
       " View project at <a href='https://wandb.ai/ma23c014-indian-institute-of-technology-madras/dakshina-transliteration' target=\"_blank\">https://wandb.ai/ma23c014-indian-institute-of-technology-madras/dakshina-transliteration</a>"
      ],
      "text/plain": [
       "<IPython.core.display.HTML object>"
      ]
     },
     "metadata": {},
     "output_type": "display_data"
    },
    {
     "data": {
      "text/html": [
       " View sweep at <a href='https://wandb.ai/ma23c014-indian-institute-of-technology-madras/dakshina-transliteration/sweeps/vntbxx0z' target=\"_blank\">https://wandb.ai/ma23c014-indian-institute-of-technology-madras/dakshina-transliteration/sweeps/vntbxx0z</a>"
      ],
      "text/plain": [
       "<IPython.core.display.HTML object>"
      ]
     },
     "metadata": {},
     "output_type": "display_data"
    },
    {
     "data": {
      "text/html": [
       " View run at <a href='https://wandb.ai/ma23c014-indian-institute-of-technology-madras/dakshina-transliteration/runs/9nfnprcr' target=\"_blank\">https://wandb.ai/ma23c014-indian-institute-of-technology-madras/dakshina-transliteration/runs/9nfnprcr</a>"
      ],
      "text/plain": [
       "<IPython.core.display.HTML object>"
      ]
     },
     "metadata": {},
     "output_type": "display_data"
    },
    {
     "name": "stderr",
     "output_type": "stream",
     "text": [
      "                                                              \r"
     ]
    },
    {
     "data": {
      "text/html": [],
      "text/plain": [
       "<IPython.core.display.HTML object>"
      ]
     },
     "metadata": {},
     "output_type": "display_data"
    },
    {
     "data": {
      "text/html": [
       "<br>    <style><br>        .wandb-row {<br>            display: flex;<br>            flex-direction: row;<br>            flex-wrap: wrap;<br>            justify-content: flex-start;<br>            width: 100%;<br>        }<br>        .wandb-col {<br>            display: flex;<br>            flex-direction: column;<br>            flex-basis: 100%;<br>            flex: 1;<br>            padding: 10px;<br>        }<br>    </style><br><div class=\"wandb-row\"><div class=\"wandb-col\"><h3>Run history:</h3><br/><table class=\"wandb\"><tr><td>epoch</td><td>▁▂▃▃▄▅▆▆▇█</td></tr><tr><td>train_accuracy</td><td>▁▅▆▆▇▇▇███</td></tr><tr><td>train_loss</td><td>█▄▃▂▂▂▂▁▁▁</td></tr><tr><td>val_accuracy</td><td>▁▄▆▇▇▇▇███</td></tr><tr><td>val_loss</td><td>█▄▂▂▁▁▁▁▁▂</td></tr></table><br/></div><div class=\"wandb-col\"><h3>Run summary:</h3><br/><table class=\"wandb\"><tr><td>epoch</td><td>9</td></tr><tr><td>train_accuracy</td><td>0.8436</td></tr><tr><td>train_loss</td><td>0.52818</td></tr><tr><td>val_accuracy</td><td>0.67391</td></tr><tr><td>val_loss</td><td>1.19112</td></tr></table><br/></div></div>"
      ],
      "text/plain": [
       "<IPython.core.display.HTML object>"
      ]
     },
     "metadata": {},
     "output_type": "display_data"
    },
    {
     "data": {
      "text/html": [
       " View run <strong style=\"color:#cdcd00\">cell:LSTM_embed:128_hid:128_layers:1_beam:5</strong> at: <a href='https://wandb.ai/ma23c014-indian-institute-of-technology-madras/dakshina-transliteration/runs/9nfnprcr' target=\"_blank\">https://wandb.ai/ma23c014-indian-institute-of-technology-madras/dakshina-transliteration/runs/9nfnprcr</a><br> View project at: <a href='https://wandb.ai/ma23c014-indian-institute-of-technology-madras/dakshina-transliteration' target=\"_blank\">https://wandb.ai/ma23c014-indian-institute-of-technology-madras/dakshina-transliteration</a><br>Synced 5 W&B file(s), 0 media file(s), 3 artifact file(s) and 0 other file(s)"
      ],
      "text/plain": [
       "<IPython.core.display.HTML object>"
      ]
     },
     "metadata": {},
     "output_type": "display_data"
    },
    {
     "data": {
      "text/html": [
       "Find logs at: <code>./wandb/run-20250520_092343-9nfnprcr/logs</code>"
      ],
      "text/plain": [
       "<IPython.core.display.HTML object>"
      ]
     },
     "metadata": {},
     "output_type": "display_data"
    },
    {
     "name": "stderr",
     "output_type": "stream",
     "text": [
      "\u001b[34m\u001b[1mwandb\u001b[0m: Agent Starting Run: vi2s4l2m with config:\n",
      "\u001b[34m\u001b[1mwandb\u001b[0m: \tbatch_size: 64\n",
      "\u001b[34m\u001b[1mwandb\u001b[0m: \tbeam_size: 3\n",
      "\u001b[34m\u001b[1mwandb\u001b[0m: \tcell_type: LSTM\n",
      "\u001b[34m\u001b[1mwandb\u001b[0m: \tdropout: 0.3\n",
      "\u001b[34m\u001b[1mwandb\u001b[0m: \tembed_size: 128\n",
      "\u001b[34m\u001b[1mwandb\u001b[0m: \thidden_size: 128\n",
      "\u001b[34m\u001b[1mwandb\u001b[0m: \tlr: 0.0006421526587101498\n",
      "\u001b[34m\u001b[1mwandb\u001b[0m: \tnum_layers: 1\n"
     ]
    },
    {
     "data": {
      "text/html": [
       "Ignoring project 'dakshina-transliteration' when running a sweep."
      ],
      "text/plain": [
       "<IPython.core.display.HTML object>"
      ]
     },
     "metadata": {},
     "output_type": "display_data"
    },
    {
     "data": {
      "text/html": [
       "Tracking run with wandb version 0.19.9"
      ],
      "text/plain": [
       "<IPython.core.display.HTML object>"
      ]
     },
     "metadata": {},
     "output_type": "display_data"
    },
    {
     "data": {
      "text/html": [
       "Run data is saved locally in <code>/kaggle/working/wandb/run-20250520_092835-vi2s4l2m</code>"
      ],
      "text/plain": [
       "<IPython.core.display.HTML object>"
      ]
     },
     "metadata": {},
     "output_type": "display_data"
    },
    {
     "data": {
      "text/html": [
       "Syncing run <strong><a href='https://wandb.ai/ma23c014-indian-institute-of-technology-madras/dakshina-transliteration/runs/vi2s4l2m' target=\"_blank\">hearty-sweep-15</a></strong> to <a href='https://wandb.ai/ma23c014-indian-institute-of-technology-madras/dakshina-transliteration' target=\"_blank\">Weights & Biases</a> (<a href='https://wandb.me/developer-guide' target=\"_blank\">docs</a>)<br>Sweep page: <a href='https://wandb.ai/ma23c014-indian-institute-of-technology-madras/dakshina-transliteration/sweeps/vntbxx0z' target=\"_blank\">https://wandb.ai/ma23c014-indian-institute-of-technology-madras/dakshina-transliteration/sweeps/vntbxx0z</a>"
      ],
      "text/plain": [
       "<IPython.core.display.HTML object>"
      ]
     },
     "metadata": {},
     "output_type": "display_data"
    },
    {
     "data": {
      "text/html": [
       " View project at <a href='https://wandb.ai/ma23c014-indian-institute-of-technology-madras/dakshina-transliteration' target=\"_blank\">https://wandb.ai/ma23c014-indian-institute-of-technology-madras/dakshina-transliteration</a>"
      ],
      "text/plain": [
       "<IPython.core.display.HTML object>"
      ]
     },
     "metadata": {},
     "output_type": "display_data"
    },
    {
     "data": {
      "text/html": [
       " View sweep at <a href='https://wandb.ai/ma23c014-indian-institute-of-technology-madras/dakshina-transliteration/sweeps/vntbxx0z' target=\"_blank\">https://wandb.ai/ma23c014-indian-institute-of-technology-madras/dakshina-transliteration/sweeps/vntbxx0z</a>"
      ],
      "text/plain": [
       "<IPython.core.display.HTML object>"
      ]
     },
     "metadata": {},
     "output_type": "display_data"
    },
    {
     "data": {
      "text/html": [
       " View run at <a href='https://wandb.ai/ma23c014-indian-institute-of-technology-madras/dakshina-transliteration/runs/vi2s4l2m' target=\"_blank\">https://wandb.ai/ma23c014-indian-institute-of-technology-madras/dakshina-transliteration/runs/vi2s4l2m</a>"
      ],
      "text/plain": [
       "<IPython.core.display.HTML object>"
      ]
     },
     "metadata": {},
     "output_type": "display_data"
    },
    {
     "name": "stderr",
     "output_type": "stream",
     "text": [
      "                                                            \r"
     ]
    },
    {
     "data": {
      "text/html": [],
      "text/plain": [
       "<IPython.core.display.HTML object>"
      ]
     },
     "metadata": {},
     "output_type": "display_data"
    },
    {
     "data": {
      "text/html": [
       "<br>    <style><br>        .wandb-row {<br>            display: flex;<br>            flex-direction: row;<br>            flex-wrap: wrap;<br>            justify-content: flex-start;<br>            width: 100%;<br>        }<br>        .wandb-col {<br>            display: flex;<br>            flex-direction: column;<br>            flex-basis: 100%;<br>            flex: 1;<br>            padding: 10px;<br>        }<br>    </style><br><div class=\"wandb-row\"><div class=\"wandb-col\"><h3>Run history:</h3><br/><table class=\"wandb\"><tr><td>epoch</td><td>▁▂▃▃▄▅▆▆▇█</td></tr><tr><td>train_accuracy</td><td>▁▄▆▆▇▇▇███</td></tr><tr><td>train_loss</td><td>█▄▃▂▂▂▁▁▁▁</td></tr><tr><td>val_accuracy</td><td>▁▄▅▆▇▇████</td></tr><tr><td>val_loss</td><td>█▅▃▂▂▂▁▁▁▁</td></tr></table><br/></div><div class=\"wandb-col\"><h3>Run summary:</h3><br/><table class=\"wandb\"><tr><td>epoch</td><td>9</td></tr><tr><td>train_accuracy</td><td>0.80567</td></tr><tr><td>train_loss</td><td>0.64963</td></tr><tr><td>val_accuracy</td><td>0.66533</td></tr><tr><td>val_loss</td><td>1.16873</td></tr></table><br/></div></div>"
      ],
      "text/plain": [
       "<IPython.core.display.HTML object>"
      ]
     },
     "metadata": {},
     "output_type": "display_data"
    },
    {
     "data": {
      "text/html": [
       " View run <strong style=\"color:#cdcd00\">cell:LSTM_embed:128_hid:128_layers:1_beam:3</strong> at: <a href='https://wandb.ai/ma23c014-indian-institute-of-technology-madras/dakshina-transliteration/runs/vi2s4l2m' target=\"_blank\">https://wandb.ai/ma23c014-indian-institute-of-technology-madras/dakshina-transliteration/runs/vi2s4l2m</a><br> View project at: <a href='https://wandb.ai/ma23c014-indian-institute-of-technology-madras/dakshina-transliteration' target=\"_blank\">https://wandb.ai/ma23c014-indian-institute-of-technology-madras/dakshina-transliteration</a><br>Synced 5 W&B file(s), 0 media file(s), 3 artifact file(s) and 0 other file(s)"
      ],
      "text/plain": [
       "<IPython.core.display.HTML object>"
      ]
     },
     "metadata": {},
     "output_type": "display_data"
    },
    {
     "data": {
      "text/html": [
       "Find logs at: <code>./wandb/run-20250520_092835-vi2s4l2m/logs</code>"
      ],
      "text/plain": [
       "<IPython.core.display.HTML object>"
      ]
     },
     "metadata": {},
     "output_type": "display_data"
    },
    {
     "name": "stderr",
     "output_type": "stream",
     "text": [
      "\u001b[34m\u001b[1mwandb\u001b[0m: Agent Starting Run: 2bm6ucl0 with config:\n",
      "\u001b[34m\u001b[1mwandb\u001b[0m: \tbatch_size: 32\n",
      "\u001b[34m\u001b[1mwandb\u001b[0m: \tbeam_size: 3\n",
      "\u001b[34m\u001b[1mwandb\u001b[0m: \tcell_type: LSTM\n",
      "\u001b[34m\u001b[1mwandb\u001b[0m: \tdropout: 0.3\n",
      "\u001b[34m\u001b[1mwandb\u001b[0m: \tembed_size: 64\n",
      "\u001b[34m\u001b[1mwandb\u001b[0m: \thidden_size: 128\n",
      "\u001b[34m\u001b[1mwandb\u001b[0m: \tlr: 0.001602978854417375\n",
      "\u001b[34m\u001b[1mwandb\u001b[0m: \tnum_layers: 1\n"
     ]
    },
    {
     "data": {
      "text/html": [
       "Ignoring project 'dakshina-transliteration' when running a sweep."
      ],
      "text/plain": [
       "<IPython.core.display.HTML object>"
      ]
     },
     "metadata": {},
     "output_type": "display_data"
    },
    {
     "data": {
      "text/html": [
       "Tracking run with wandb version 0.19.9"
      ],
      "text/plain": [
       "<IPython.core.display.HTML object>"
      ]
     },
     "metadata": {},
     "output_type": "display_data"
    },
    {
     "data": {
      "text/html": [
       "Run data is saved locally in <code>/kaggle/working/wandb/run-20250520_093127-2bm6ucl0</code>"
      ],
      "text/plain": [
       "<IPython.core.display.HTML object>"
      ]
     },
     "metadata": {},
     "output_type": "display_data"
    },
    {
     "data": {
      "text/html": [
       "Syncing run <strong><a href='https://wandb.ai/ma23c014-indian-institute-of-technology-madras/dakshina-transliteration/runs/2bm6ucl0' target=\"_blank\">devout-sweep-16</a></strong> to <a href='https://wandb.ai/ma23c014-indian-institute-of-technology-madras/dakshina-transliteration' target=\"_blank\">Weights & Biases</a> (<a href='https://wandb.me/developer-guide' target=\"_blank\">docs</a>)<br>Sweep page: <a href='https://wandb.ai/ma23c014-indian-institute-of-technology-madras/dakshina-transliteration/sweeps/vntbxx0z' target=\"_blank\">https://wandb.ai/ma23c014-indian-institute-of-technology-madras/dakshina-transliteration/sweeps/vntbxx0z</a>"
      ],
      "text/plain": [
       "<IPython.core.display.HTML object>"
      ]
     },
     "metadata": {},
     "output_type": "display_data"
    },
    {
     "data": {
      "text/html": [
       " View project at <a href='https://wandb.ai/ma23c014-indian-institute-of-technology-madras/dakshina-transliteration' target=\"_blank\">https://wandb.ai/ma23c014-indian-institute-of-technology-madras/dakshina-transliteration</a>"
      ],
      "text/plain": [
       "<IPython.core.display.HTML object>"
      ]
     },
     "metadata": {},
     "output_type": "display_data"
    },
    {
     "data": {
      "text/html": [
       " View sweep at <a href='https://wandb.ai/ma23c014-indian-institute-of-technology-madras/dakshina-transliteration/sweeps/vntbxx0z' target=\"_blank\">https://wandb.ai/ma23c014-indian-institute-of-technology-madras/dakshina-transliteration/sweeps/vntbxx0z</a>"
      ],
      "text/plain": [
       "<IPython.core.display.HTML object>"
      ]
     },
     "metadata": {},
     "output_type": "display_data"
    },
    {
     "data": {
      "text/html": [
       " View run at <a href='https://wandb.ai/ma23c014-indian-institute-of-technology-madras/dakshina-transliteration/runs/2bm6ucl0' target=\"_blank\">https://wandb.ai/ma23c014-indian-institute-of-technology-madras/dakshina-transliteration/runs/2bm6ucl0</a>"
      ],
      "text/plain": [
       "<IPython.core.display.HTML object>"
      ]
     },
     "metadata": {},
     "output_type": "display_data"
    },
    {
     "name": "stderr",
     "output_type": "stream",
     "text": [
      "                                                              \r"
     ]
    },
    {
     "data": {
      "text/html": [],
      "text/plain": [
       "<IPython.core.display.HTML object>"
      ]
     },
     "metadata": {},
     "output_type": "display_data"
    },
    {
     "data": {
      "text/html": [
       "<br>    <style><br>        .wandb-row {<br>            display: flex;<br>            flex-direction: row;<br>            flex-wrap: wrap;<br>            justify-content: flex-start;<br>            width: 100%;<br>        }<br>        .wandb-col {<br>            display: flex;<br>            flex-direction: column;<br>            flex-basis: 100%;<br>            flex: 1;<br>            padding: 10px;<br>        }<br>    </style><br><div class=\"wandb-row\"><div class=\"wandb-col\"><h3>Run history:</h3><br/><table class=\"wandb\"><tr><td>epoch</td><td>▁▂▃▃▄▅▆▆▇█</td></tr><tr><td>train_accuracy</td><td>▁▅▆▆▇▇▇███</td></tr><tr><td>train_loss</td><td>█▄▃▂▂▂▁▁▁▁</td></tr><tr><td>val_accuracy</td><td>▁▄▆▇▇▇████</td></tr><tr><td>val_loss</td><td>█▄▂▁▁▁▁▂▂▃</td></tr></table><br/></div><div class=\"wandb-col\"><h3>Run summary:</h3><br/><table class=\"wandb\"><tr><td>epoch</td><td>9</td></tr><tr><td>train_accuracy</td><td>0.85874</td></tr><tr><td>train_loss</td><td>0.48014</td></tr><tr><td>val_accuracy</td><td>0.6801</td></tr><tr><td>val_loss</td><td>1.21099</td></tr></table><br/></div></div>"
      ],
      "text/plain": [
       "<IPython.core.display.HTML object>"
      ]
     },
     "metadata": {},
     "output_type": "display_data"
    },
    {
     "data": {
      "text/html": [
       " View run <strong style=\"color:#cdcd00\">cell:LSTM_embed:64_hid:128_layers:1_beam:3</strong> at: <a href='https://wandb.ai/ma23c014-indian-institute-of-technology-madras/dakshina-transliteration/runs/2bm6ucl0' target=\"_blank\">https://wandb.ai/ma23c014-indian-institute-of-technology-madras/dakshina-transliteration/runs/2bm6ucl0</a><br> View project at: <a href='https://wandb.ai/ma23c014-indian-institute-of-technology-madras/dakshina-transliteration' target=\"_blank\">https://wandb.ai/ma23c014-indian-institute-of-technology-madras/dakshina-transliteration</a><br>Synced 5 W&B file(s), 0 media file(s), 3 artifact file(s) and 0 other file(s)"
      ],
      "text/plain": [
       "<IPython.core.display.HTML object>"
      ]
     },
     "metadata": {},
     "output_type": "display_data"
    },
    {
     "data": {
      "text/html": [
       "Find logs at: <code>./wandb/run-20250520_093127-2bm6ucl0/logs</code>"
      ],
      "text/plain": [
       "<IPython.core.display.HTML object>"
      ]
     },
     "metadata": {},
     "output_type": "display_data"
    },
    {
     "name": "stderr",
     "output_type": "stream",
     "text": [
      "\u001b[34m\u001b[1mwandb\u001b[0m: Agent Starting Run: bypcfej8 with config:\n",
      "\u001b[34m\u001b[1mwandb\u001b[0m: \tbatch_size: 16\n",
      "\u001b[34m\u001b[1mwandb\u001b[0m: \tbeam_size: 5\n",
      "\u001b[34m\u001b[1mwandb\u001b[0m: \tcell_type: LSTM\n",
      "\u001b[34m\u001b[1mwandb\u001b[0m: \tdropout: 0.2\n",
      "\u001b[34m\u001b[1mwandb\u001b[0m: \tembed_size: 128\n",
      "\u001b[34m\u001b[1mwandb\u001b[0m: \thidden_size: 128\n",
      "\u001b[34m\u001b[1mwandb\u001b[0m: \tlr: 0.001159992077775628\n",
      "\u001b[34m\u001b[1mwandb\u001b[0m: \tnum_layers: 1\n"
     ]
    },
    {
     "data": {
      "text/html": [
       "Ignoring project 'dakshina-transliteration' when running a sweep."
      ],
      "text/plain": [
       "<IPython.core.display.HTML object>"
      ]
     },
     "metadata": {},
     "output_type": "display_data"
    },
    {
     "data": {
      "text/html": [
       "Tracking run with wandb version 0.19.9"
      ],
      "text/plain": [
       "<IPython.core.display.HTML object>"
      ]
     },
     "metadata": {},
     "output_type": "display_data"
    },
    {
     "data": {
      "text/html": [
       "Run data is saved locally in <code>/kaggle/working/wandb/run-20250520_093620-bypcfej8</code>"
      ],
      "text/plain": [
       "<IPython.core.display.HTML object>"
      ]
     },
     "metadata": {},
     "output_type": "display_data"
    },
    {
     "data": {
      "text/html": [
       "Syncing run <strong><a href='https://wandb.ai/ma23c014-indian-institute-of-technology-madras/dakshina-transliteration/runs/bypcfej8' target=\"_blank\">stilted-sweep-17</a></strong> to <a href='https://wandb.ai/ma23c014-indian-institute-of-technology-madras/dakshina-transliteration' target=\"_blank\">Weights & Biases</a> (<a href='https://wandb.me/developer-guide' target=\"_blank\">docs</a>)<br>Sweep page: <a href='https://wandb.ai/ma23c014-indian-institute-of-technology-madras/dakshina-transliteration/sweeps/vntbxx0z' target=\"_blank\">https://wandb.ai/ma23c014-indian-institute-of-technology-madras/dakshina-transliteration/sweeps/vntbxx0z</a>"
      ],
      "text/plain": [
       "<IPython.core.display.HTML object>"
      ]
     },
     "metadata": {},
     "output_type": "display_data"
    },
    {
     "data": {
      "text/html": [
       " View project at <a href='https://wandb.ai/ma23c014-indian-institute-of-technology-madras/dakshina-transliteration' target=\"_blank\">https://wandb.ai/ma23c014-indian-institute-of-technology-madras/dakshina-transliteration</a>"
      ],
      "text/plain": [
       "<IPython.core.display.HTML object>"
      ]
     },
     "metadata": {},
     "output_type": "display_data"
    },
    {
     "data": {
      "text/html": [
       " View sweep at <a href='https://wandb.ai/ma23c014-indian-institute-of-technology-madras/dakshina-transliteration/sweeps/vntbxx0z' target=\"_blank\">https://wandb.ai/ma23c014-indian-institute-of-technology-madras/dakshina-transliteration/sweeps/vntbxx0z</a>"
      ],
      "text/plain": [
       "<IPython.core.display.HTML object>"
      ]
     },
     "metadata": {},
     "output_type": "display_data"
    },
    {
     "data": {
      "text/html": [
       " View run at <a href='https://wandb.ai/ma23c014-indian-institute-of-technology-madras/dakshina-transliteration/runs/bypcfej8' target=\"_blank\">https://wandb.ai/ma23c014-indian-institute-of-technology-madras/dakshina-transliteration/runs/bypcfej8</a>"
      ],
      "text/plain": [
       "<IPython.core.display.HTML object>"
      ]
     },
     "metadata": {},
     "output_type": "display_data"
    },
    {
     "name": "stderr",
     "output_type": "stream",
     "text": [
      "                                                              \r"
     ]
    },
    {
     "data": {
      "text/html": [],
      "text/plain": [
       "<IPython.core.display.HTML object>"
      ]
     },
     "metadata": {},
     "output_type": "display_data"
    },
    {
     "data": {
      "text/html": [
       "<br>    <style><br>        .wandb-row {<br>            display: flex;<br>            flex-direction: row;<br>            flex-wrap: wrap;<br>            justify-content: flex-start;<br>            width: 100%;<br>        }<br>        .wandb-col {<br>            display: flex;<br>            flex-direction: column;<br>            flex-basis: 100%;<br>            flex: 1;<br>            padding: 10px;<br>        }<br>    </style><br><div class=\"wandb-row\"><div class=\"wandb-col\"><h3>Run history:</h3><br/><table class=\"wandb\"><tr><td>epoch</td><td>▁▂▃▃▄▅▆▆▇█</td></tr><tr><td>train_accuracy</td><td>▁▅▆▆▇▇▇███</td></tr><tr><td>train_loss</td><td>█▄▃▂▂▂▂▁▁▁</td></tr><tr><td>val_accuracy</td><td>▁▄▆▆▇▇█▇▇█</td></tr><tr><td>val_loss</td><td>█▄▃▂▂▂▁▁▂▁</td></tr></table><br/></div><div class=\"wandb-col\"><h3>Run summary:</h3><br/><table class=\"wandb\"><tr><td>epoch</td><td>9</td></tr><tr><td>train_accuracy</td><td>0.84503</td></tr><tr><td>train_loss</td><td>0.52187</td></tr><tr><td>val_accuracy</td><td>0.68769</td></tr><tr><td>val_loss</td><td>1.14176</td></tr></table><br/></div></div>"
      ],
      "text/plain": [
       "<IPython.core.display.HTML object>"
      ]
     },
     "metadata": {},
     "output_type": "display_data"
    },
    {
     "data": {
      "text/html": [
       " View run <strong style=\"color:#cdcd00\">cell:LSTM_embed:128_hid:128_layers:1_beam:5</strong> at: <a href='https://wandb.ai/ma23c014-indian-institute-of-technology-madras/dakshina-transliteration/runs/bypcfej8' target=\"_blank\">https://wandb.ai/ma23c014-indian-institute-of-technology-madras/dakshina-transliteration/runs/bypcfej8</a><br> View project at: <a href='https://wandb.ai/ma23c014-indian-institute-of-technology-madras/dakshina-transliteration' target=\"_blank\">https://wandb.ai/ma23c014-indian-institute-of-technology-madras/dakshina-transliteration</a><br>Synced 5 W&B file(s), 0 media file(s), 3 artifact file(s) and 0 other file(s)"
      ],
      "text/plain": [
       "<IPython.core.display.HTML object>"
      ]
     },
     "metadata": {},
     "output_type": "display_data"
    },
    {
     "data": {
      "text/html": [
       "Find logs at: <code>./wandb/run-20250520_093620-bypcfej8/logs</code>"
      ],
      "text/plain": [
       "<IPython.core.display.HTML object>"
      ]
     },
     "metadata": {},
     "output_type": "display_data"
    },
    {
     "name": "stderr",
     "output_type": "stream",
     "text": [
      "\u001b[34m\u001b[1mwandb\u001b[0m: Sweep Agent: Waiting for job.\n",
      "\u001b[34m\u001b[1mwandb\u001b[0m: Job received.\n",
      "\u001b[34m\u001b[1mwandb\u001b[0m: Agent Starting Run: v4vadsnv with config:\n",
      "\u001b[34m\u001b[1mwandb\u001b[0m: \tbatch_size: 32\n",
      "\u001b[34m\u001b[1mwandb\u001b[0m: \tbeam_size: 5\n",
      "\u001b[34m\u001b[1mwandb\u001b[0m: \tcell_type: LSTM\n",
      "\u001b[34m\u001b[1mwandb\u001b[0m: \tdropout: 0.2\n",
      "\u001b[34m\u001b[1mwandb\u001b[0m: \tembed_size: 128\n",
      "\u001b[34m\u001b[1mwandb\u001b[0m: \thidden_size: 128\n",
      "\u001b[34m\u001b[1mwandb\u001b[0m: \tlr: 0.0017154123438262545\n",
      "\u001b[34m\u001b[1mwandb\u001b[0m: \tnum_layers: 1\n"
     ]
    },
    {
     "data": {
      "text/html": [
       "Ignoring project 'dakshina-transliteration' when running a sweep."
      ],
      "text/plain": [
       "<IPython.core.display.HTML object>"
      ]
     },
     "metadata": {},
     "output_type": "display_data"
    },
    {
     "data": {
      "text/html": [
       "Tracking run with wandb version 0.19.9"
      ],
      "text/plain": [
       "<IPython.core.display.HTML object>"
      ]
     },
     "metadata": {},
     "output_type": "display_data"
    },
    {
     "data": {
      "text/html": [
       "Run data is saved locally in <code>/kaggle/working/wandb/run-20250520_094502-v4vadsnv</code>"
      ],
      "text/plain": [
       "<IPython.core.display.HTML object>"
      ]
     },
     "metadata": {},
     "output_type": "display_data"
    },
    {
     "data": {
      "text/html": [
       "Syncing run <strong><a href='https://wandb.ai/ma23c014-indian-institute-of-technology-madras/dakshina-transliteration/runs/v4vadsnv' target=\"_blank\">generous-sweep-18</a></strong> to <a href='https://wandb.ai/ma23c014-indian-institute-of-technology-madras/dakshina-transliteration' target=\"_blank\">Weights & Biases</a> (<a href='https://wandb.me/developer-guide' target=\"_blank\">docs</a>)<br>Sweep page: <a href='https://wandb.ai/ma23c014-indian-institute-of-technology-madras/dakshina-transliteration/sweeps/vntbxx0z' target=\"_blank\">https://wandb.ai/ma23c014-indian-institute-of-technology-madras/dakshina-transliteration/sweeps/vntbxx0z</a>"
      ],
      "text/plain": [
       "<IPython.core.display.HTML object>"
      ]
     },
     "metadata": {},
     "output_type": "display_data"
    },
    {
     "data": {
      "text/html": [
       " View project at <a href='https://wandb.ai/ma23c014-indian-institute-of-technology-madras/dakshina-transliteration' target=\"_blank\">https://wandb.ai/ma23c014-indian-institute-of-technology-madras/dakshina-transliteration</a>"
      ],
      "text/plain": [
       "<IPython.core.display.HTML object>"
      ]
     },
     "metadata": {},
     "output_type": "display_data"
    },
    {
     "data": {
      "text/html": [
       " View sweep at <a href='https://wandb.ai/ma23c014-indian-institute-of-technology-madras/dakshina-transliteration/sweeps/vntbxx0z' target=\"_blank\">https://wandb.ai/ma23c014-indian-institute-of-technology-madras/dakshina-transliteration/sweeps/vntbxx0z</a>"
      ],
      "text/plain": [
       "<IPython.core.display.HTML object>"
      ]
     },
     "metadata": {},
     "output_type": "display_data"
    },
    {
     "data": {
      "text/html": [
       " View run at <a href='https://wandb.ai/ma23c014-indian-institute-of-technology-madras/dakshina-transliteration/runs/v4vadsnv' target=\"_blank\">https://wandb.ai/ma23c014-indian-institute-of-technology-madras/dakshina-transliteration/runs/v4vadsnv</a>"
      ],
      "text/plain": [
       "<IPython.core.display.HTML object>"
      ]
     },
     "metadata": {},
     "output_type": "display_data"
    },
    {
     "name": "stderr",
     "output_type": "stream",
     "text": [
      "                                                              \r"
     ]
    },
    {
     "data": {
      "text/html": [],
      "text/plain": [
       "<IPython.core.display.HTML object>"
      ]
     },
     "metadata": {},
     "output_type": "display_data"
    },
    {
     "data": {
      "text/html": [
       "<br>    <style><br>        .wandb-row {<br>            display: flex;<br>            flex-direction: row;<br>            flex-wrap: wrap;<br>            justify-content: flex-start;<br>            width: 100%;<br>        }<br>        .wandb-col {<br>            display: flex;<br>            flex-direction: column;<br>            flex-basis: 100%;<br>            flex: 1;<br>            padding: 10px;<br>        }<br>    </style><br><div class=\"wandb-row\"><div class=\"wandb-col\"><h3>Run history:</h3><br/><table class=\"wandb\"><tr><td>epoch</td><td>▁▂▃▃▄▅▆▆▇█</td></tr><tr><td>train_accuracy</td><td>▁▅▆▆▇▇▇███</td></tr><tr><td>train_loss</td><td>█▄▃▂▂▂▂▁▁▁</td></tr><tr><td>val_accuracy</td><td>▁▅▆▇▇█████</td></tr><tr><td>val_loss</td><td>█▃▂▁▁▁▁▁▁▂</td></tr></table><br/></div><div class=\"wandb-col\"><h3>Run summary:</h3><br/><table class=\"wandb\"><tr><td>epoch</td><td>9</td></tr><tr><td>train_accuracy</td><td>0.84435</td></tr><tr><td>train_loss</td><td>0.52439</td></tr><tr><td>val_accuracy</td><td>0.67475</td></tr><tr><td>val_loss</td><td>1.20852</td></tr></table><br/></div></div>"
      ],
      "text/plain": [
       "<IPython.core.display.HTML object>"
      ]
     },
     "metadata": {},
     "output_type": "display_data"
    },
    {
     "data": {
      "text/html": [
       " View run <strong style=\"color:#cdcd00\">cell:LSTM_embed:128_hid:128_layers:1_beam:5</strong> at: <a href='https://wandb.ai/ma23c014-indian-institute-of-technology-madras/dakshina-transliteration/runs/v4vadsnv' target=\"_blank\">https://wandb.ai/ma23c014-indian-institute-of-technology-madras/dakshina-transliteration/runs/v4vadsnv</a><br> View project at: <a href='https://wandb.ai/ma23c014-indian-institute-of-technology-madras/dakshina-transliteration' target=\"_blank\">https://wandb.ai/ma23c014-indian-institute-of-technology-madras/dakshina-transliteration</a><br>Synced 5 W&B file(s), 0 media file(s), 3 artifact file(s) and 0 other file(s)"
      ],
      "text/plain": [
       "<IPython.core.display.HTML object>"
      ]
     },
     "metadata": {},
     "output_type": "display_data"
    },
    {
     "data": {
      "text/html": [
       "Find logs at: <code>./wandb/run-20250520_094502-v4vadsnv/logs</code>"
      ],
      "text/plain": [
       "<IPython.core.display.HTML object>"
      ]
     },
     "metadata": {},
     "output_type": "display_data"
    },
    {
     "name": "stderr",
     "output_type": "stream",
     "text": [
      "\u001b[34m\u001b[1mwandb\u001b[0m: Agent Starting Run: dess47a1 with config:\n",
      "\u001b[34m\u001b[1mwandb\u001b[0m: \tbatch_size: 16\n",
      "\u001b[34m\u001b[1mwandb\u001b[0m: \tbeam_size: 3\n",
      "\u001b[34m\u001b[1mwandb\u001b[0m: \tcell_type: LSTM\n",
      "\u001b[34m\u001b[1mwandb\u001b[0m: \tdropout: 0.2\n",
      "\u001b[34m\u001b[1mwandb\u001b[0m: \tembed_size: 32\n",
      "\u001b[34m\u001b[1mwandb\u001b[0m: \thidden_size: 128\n",
      "\u001b[34m\u001b[1mwandb\u001b[0m: \tlr: 0.002031253345529322\n",
      "\u001b[34m\u001b[1mwandb\u001b[0m: \tnum_layers: 1\n"
     ]
    },
    {
     "data": {
      "text/html": [
       "Ignoring project 'dakshina-transliteration' when running a sweep."
      ],
      "text/plain": [
       "<IPython.core.display.HTML object>"
      ]
     },
     "metadata": {},
     "output_type": "display_data"
    },
    {
     "data": {
      "text/html": [
       "Tracking run with wandb version 0.19.9"
      ],
      "text/plain": [
       "<IPython.core.display.HTML object>"
      ]
     },
     "metadata": {},
     "output_type": "display_data"
    },
    {
     "data": {
      "text/html": [
       "Run data is saved locally in <code>/kaggle/working/wandb/run-20250520_094955-dess47a1</code>"
      ],
      "text/plain": [
       "<IPython.core.display.HTML object>"
      ]
     },
     "metadata": {},
     "output_type": "display_data"
    },
    {
     "data": {
      "text/html": [
       "Syncing run <strong><a href='https://wandb.ai/ma23c014-indian-institute-of-technology-madras/dakshina-transliteration/runs/dess47a1' target=\"_blank\">cerulean-sweep-19</a></strong> to <a href='https://wandb.ai/ma23c014-indian-institute-of-technology-madras/dakshina-transliteration' target=\"_blank\">Weights & Biases</a> (<a href='https://wandb.me/developer-guide' target=\"_blank\">docs</a>)<br>Sweep page: <a href='https://wandb.ai/ma23c014-indian-institute-of-technology-madras/dakshina-transliteration/sweeps/vntbxx0z' target=\"_blank\">https://wandb.ai/ma23c014-indian-institute-of-technology-madras/dakshina-transliteration/sweeps/vntbxx0z</a>"
      ],
      "text/plain": [
       "<IPython.core.display.HTML object>"
      ]
     },
     "metadata": {},
     "output_type": "display_data"
    },
    {
     "data": {
      "text/html": [
       " View project at <a href='https://wandb.ai/ma23c014-indian-institute-of-technology-madras/dakshina-transliteration' target=\"_blank\">https://wandb.ai/ma23c014-indian-institute-of-technology-madras/dakshina-transliteration</a>"
      ],
      "text/plain": [
       "<IPython.core.display.HTML object>"
      ]
     },
     "metadata": {},
     "output_type": "display_data"
    },
    {
     "data": {
      "text/html": [
       " View sweep at <a href='https://wandb.ai/ma23c014-indian-institute-of-technology-madras/dakshina-transliteration/sweeps/vntbxx0z' target=\"_blank\">https://wandb.ai/ma23c014-indian-institute-of-technology-madras/dakshina-transliteration/sweeps/vntbxx0z</a>"
      ],
      "text/plain": [
       "<IPython.core.display.HTML object>"
      ]
     },
     "metadata": {},
     "output_type": "display_data"
    },
    {
     "data": {
      "text/html": [
       " View run at <a href='https://wandb.ai/ma23c014-indian-institute-of-technology-madras/dakshina-transliteration/runs/dess47a1' target=\"_blank\">https://wandb.ai/ma23c014-indian-institute-of-technology-madras/dakshina-transliteration/runs/dess47a1</a>"
      ],
      "text/plain": [
       "<IPython.core.display.HTML object>"
      ]
     },
     "metadata": {},
     "output_type": "display_data"
    },
    {
     "name": "stderr",
     "output_type": "stream",
     "text": [
      "Training:  93%|█████████▎| 2569/2763 [00:44<00:03, 58.17it/s] "
     ]
    }
   ],
   "source": [
    "def build_vocab(pairs):\n",
    "    input_chars = set()\n",
    "    output_chars = set()\n",
    "    for source, target in pairs:\n",
    "        input_chars.update(source)\n",
    "        output_chars.update(target)\n",
    "    input_vocab = {c: i + 1 for i, c in enumerate(sorted(input_chars))}\n",
    "    input_vocab['<pad>'] = 0\n",
    "    output_vocab = {c: i + 3 for i, c in enumerate(sorted(output_chars))}\n",
    "    output_vocab.update({'<pad>': 0, '<sos>': 1, '<eos>': 2})\n",
    "    return input_vocab, output_vocab\n",
    "\n",
    "def load_pairs(path):\n",
    "    df = pd.read_csv(path, sep=\"\\t\", header=None, names=[\"target\", \"source\", \"count\"], dtype=str)\n",
    "    df.dropna(subset=[\"source\", \"target\"], inplace=True)\n",
    "    return list(zip(df[\"source\"], df[\"target\"]))\n",
    "\n",
    "def collate_fn(batch):\n",
    "    inputs, targets = zip(*batch)\n",
    "    input_lens = [len(seq) for seq in inputs]\n",
    "    target_lens = [len(seq) for seq in targets]\n",
    "    inputs_padded = nn.utils.rnn.pad_sequence(inputs, batch_first=True, padding_value=0)\n",
    "    targets_padded = nn.utils.rnn.pad_sequence(targets, batch_first=True, padding_value=0)\n",
    "    return inputs_padded, targets_padded, input_lens, target_lens\n",
    "\n",
    "class Encoder(nn.Module):\n",
    "    def __init__(self, input_size, embed_size, hidden_size, num_layers, cell_type, dropout):\n",
    "        super().__init__()\n",
    "        self.embedding = nn.Embedding(input_size, embed_size, padding_idx=0)\n",
    "        rnn_class = {'RNN': nn.RNN, 'GRU': nn.GRU, 'LSTM': nn.LSTM}[cell_type]\n",
    "        self.rnn = rnn_class(embed_size, hidden_size, num_layers, batch_first=True, dropout=dropout if num_layers > 1 else 0)\n",
    "\n",
    "    def forward(self, x, lengths):\n",
    "        x = self.embedding(x)\n",
    "        packed = nn.utils.rnn.pack_padded_sequence(x, lengths, batch_first=True, enforce_sorted=False)\n",
    "        outputs, hidden = self.rnn(packed)\n",
    "        return hidden\n",
    "\n",
    "class Decoder(nn.Module):\n",
    "    def __init__(self, output_size, embed_size, hidden_size, num_layers, cell_type, dropout):\n",
    "        super().__init__()\n",
    "        self.embedding = nn.Embedding(output_size, embed_size, padding_idx=0)\n",
    "        rnn_class = {'RNN': nn.RNN, 'GRU': nn.GRU, 'LSTM': nn.LSTM}[cell_type]\n",
    "        self.rnn = rnn_class(embed_size, hidden_size, num_layers, batch_first=True, dropout=dropout if num_layers > 1 else 0)\n",
    "        self.fc = nn.Linear(hidden_size, output_size)\n",
    "\n",
    "    def forward(self, input_token, hidden):\n",
    "        x = self.embedding(input_token.unsqueeze(1))\n",
    "        output, hidden = self.rnn(x, hidden)\n",
    "        output = self.fc(output.squeeze(1))\n",
    "        return output, hidden\n",
    "\n",
    "    def beam_search(self, hidden, max_len, sos_idx, eos_idx, beam_size=3):\n",
    "        device = next(self.parameters()).device\n",
    "        sequences = [[torch.tensor([sos_idx], device=device), hidden, 0.0]]\n",
    "        completed = []\n",
    "\n",
    "        for _ in range(max_len):\n",
    "            new_sequences = []\n",
    "            for seq, h, score in sequences:\n",
    "                input_token = seq[-1].unsqueeze(0)\n",
    "                output, new_hidden = self.forward(input_token, h)\n",
    "                probs = torch.log_softmax(output, dim=-1).squeeze(0)\n",
    "                topk_probs, topk_indices = probs.topk(beam_size)\n",
    "                for i in range(beam_size):\n",
    "                    next_token = topk_indices[i].item()\n",
    "                    new_score = score + topk_probs[i].item()\n",
    "                    new_seq = torch.cat([seq, torch.tensor([next_token], device=device)])\n",
    "                    new_sequences.append([new_seq, new_hidden, new_score])\n",
    "            sequences = sorted(new_sequences, key=lambda x: x[2], reverse=True)[:beam_size]\n",
    "            completed.extend([seq for seq in sequences if seq[0][-1].item() == eos_idx])\n",
    "            sequences = [seq for seq in sequences if seq[0][-1].item() != eos_idx]\n",
    "            if not sequences:\n",
    "                break\n",
    "        completed = sorted(completed, key=lambda x: x[2], reverse=True)\n",
    "        return completed[0][0] if completed else sequences[0][0]\n",
    "\n",
    "class Seq2Seq(nn.Module):\n",
    "    def __init__(self, encoder, decoder):\n",
    "        super().__init__()\n",
    "        self.encoder = encoder\n",
    "        self.decoder = decoder\n",
    "\n",
    "    def forward(self, src, src_lens, tgt=None, teacher_forcing_ratio=0.5):\n",
    "        batch_size = src.size(0)\n",
    "        device = src.device\n",
    "        hidden = self.encoder(src, src_lens)\n",
    "        if tgt is not None:\n",
    "            tgt_len = tgt.size(1)\n",
    "            outputs = torch.zeros(batch_size, tgt_len, self.decoder.fc.out_features, device=device)\n",
    "            input_token = tgt[:, 0]\n",
    "            for t in range(1, tgt_len):\n",
    "                output, hidden = self.decoder(input_token, hidden)\n",
    "                outputs[:, t] = output\n",
    "                teacher_force = torch.rand(1).item() < teacher_forcing_ratio\n",
    "                input_token = tgt[:, t] if teacher_force else output.argmax(1)\n",
    "            return outputs\n",
    "        else:\n",
    "            return [self.decoder.beam_search(hidden, max_len=20, sos_idx=1, eos_idx=2) for _ in range(batch_size)]\n",
    "\n",
    "def accuracy(preds, targets, pad_idx=0):\n",
    "    pred_tokens = preds.argmax(dim=-1)\n",
    "    correct = ((pred_tokens == targets) & (targets != pad_idx)).sum().item()\n",
    "    total = (targets != pad_idx).sum().item()\n",
    "    return correct / total if total > 0 else 0.0\n",
    "\n",
    "def train(model, loader, optimizer, criterion, device):\n",
    "    model.train()\n",
    "    total_loss, total_acc = 0, 0\n",
    "    for src, tgt, src_lens, tgt_lens in tqdm(loader, desc=\"Training\", leave=False):\n",
    "        src, tgt = src.to(device), tgt.to(device)\n",
    "        optimizer.zero_grad()\n",
    "        output = model(src, src_lens, tgt)\n",
    "        loss = criterion(output[:, 1:].reshape(-1, output.size(-1)), tgt[:, 1:].reshape(-1))\n",
    "        acc = accuracy(output[:, 1:], tgt[:, 1:])\n",
    "        loss.backward()\n",
    "        optimizer.step()\n",
    "        total_loss += loss.item()\n",
    "        total_acc += acc\n",
    "    return total_loss / len(loader), total_acc / len(loader)\n",
    "\n",
    "@torch.no_grad()\n",
    "def evaluate(model, loader, criterion, device):\n",
    "    model.eval()\n",
    "    total_loss, total_acc = 0, 0\n",
    "    for src, tgt, src_lens, tgt_lens in tqdm(loader, desc=\"Evaluating\", leave=False):\n",
    "        src, tgt = src.to(device), tgt.to(device)\n",
    "        output = model(src, src_lens, tgt, teacher_forcing_ratio=0.0)\n",
    "        loss = criterion(output[:, 1:].reshape(-1, output.size(-1)), tgt[:, 1:].reshape(-1))\n",
    "        acc = accuracy(output[:, 1:], tgt[:, 1:])\n",
    "        total_loss += loss.item()\n",
    "        total_acc += acc\n",
    "    return total_loss / len(loader), total_acc / len(loader)\n",
    "\n",
    "def main():\n",
    "    import wandb\n",
    "    # Run name will be assigned after wandb.init with config\n",
    "    def generate_run_name(config):\n",
    "        return f\"cell:{config.cell_type}_embed:{config.embed_size}_hid:{config.hidden_size}_layers:{config.num_layers}_beam:{config.beam_size}\"\n",
    "\n",
    "    # First initialize W&B run with placeholder name\n",
    "    wandb.init(project=\"dakshina-transliteration\", config=wandb.config)\n",
    "    config = wandb.config\n",
    "\n",
    "    # Then update the run name\n",
    "    wandb.run.name = generate_run_name(config)\n",
    "    wandb.run.save() \n",
    "\n",
    "    device = torch.device(\"cuda\" if torch.cuda.is_available() else \"cpu\")\n",
    "\n",
    "    train_pairs = load_pairs(\"/kaggle/input/dakshina-dataset/dakshina_dataset_v1.0/hi/lexicons/hi.translit.sampled.train.tsv\")\n",
    "    dev_pairs = load_pairs(\"/kaggle/input/dakshina-dataset/dakshina_dataset_v1.0/hi/lexicons/hi.translit.sampled.dev.tsv\")\n",
    "\n",
    "    input_vocab, output_vocab = build_vocab(train_pairs)\n",
    "    train_dataset = TransliterationDataset(train_pairs, input_vocab, output_vocab)\n",
    "    dev_dataset = TransliterationDataset(dev_pairs, input_vocab, output_vocab)\n",
    "\n",
    "    train_loader = DataLoader(train_dataset, batch_size=config.batch_size, shuffle=True, collate_fn=collate_fn)\n",
    "    dev_loader = DataLoader(dev_dataset, batch_size=config.batch_size, shuffle=False, collate_fn=collate_fn)\n",
    "\n",
    "    encoder = Encoder(len(input_vocab), config.embed_size, config.hidden_size, config.num_layers, config.cell_type, config.dropout)\n",
    "    decoder = Decoder(len(output_vocab), config.embed_size, config.hidden_size, config.num_layers, config.cell_type, config.dropout)\n",
    "    model = Seq2Seq(encoder, decoder).to(device)\n",
    "\n",
    "    optimizer = torch.optim.Adam(model.parameters(), lr=config.lr)\n",
    "    criterion = nn.CrossEntropyLoss(ignore_index=0)\n",
    "\n",
    "    for epoch in range(10):\n",
    "        train_loss, train_acc = train(model, train_loader, optimizer, criterion, device)\n",
    "        val_loss, val_acc = evaluate(model, dev_loader, criterion, device)\n",
    "        wandb.log({\n",
    "            \"epoch\": epoch,\n",
    "            \"train_loss\": train_loss,\n",
    "            \"train_accuracy\": train_acc,\n",
    "            \"val_loss\": val_loss,\n",
    "            \"val_accuracy\": val_acc\n",
    "        })\n",
    "\n",
    "\n",
    "if __name__ == \"__main__\":\n",
    "    sweep_config = {\n",
    "        \"method\": \"bayes\",\n",
    "        \"metric\": {\"name\": \"val_accuracy\", \"goal\": \"maximize\"},\n",
    "        \"parameters\": {\n",
    "            \"embed_size\": {\"values\": [32, 64, 128]},\n",
    "            \"hidden_size\": {\"values\": [16,32, 64, 128]},\n",
    "            \"num_layers\": {\"values\": [1,2,3]},\n",
    "            \"cell_type\": {\"values\": [\"RNN\", \"GRU\", \"LSTM\"]},\n",
    "            \"dropout\": {\"values\": [0.1,0.2, 0.3]},\n",
    "            \"lr\": {\"min\": 0.0001, \"max\": 0.01},\n",
    "            \"batch_size\": {\"values\": [16,32, 64]},\n",
    "            \"beam_size\": {\"values\": [1, 3, 5]}  \n",
    "        }\n",
    "    }\n",
    "\n",
    "    sweep_id = wandb.sweep(sweep_config, project=\"dakshina-transliteration\")\n",
    "    wandb.agent(sweep_id, function=main, count=20)"
   ]
  },
  {
   "cell_type": "markdown",
   "metadata": {},
   "source": [
    "# Ques-4\n",
    "### Best Model on Test Data"
   ]
  },
  {
   "cell_type": "code",
   "execution_count": 2,
   "metadata": {
    "execution": {
     "iopub.execute_input": "2025-05-20T12:14:40.183307Z",
     "iopub.status.busy": "2025-05-20T12:14:40.182704Z",
     "iopub.status.idle": "2025-05-20T12:23:59.252384Z",
     "shell.execute_reply": "2025-05-20T12:23:59.251592Z",
     "shell.execute_reply.started": "2025-05-20T12:14:40.183284Z"
    },
    "trusted": true
   },
   "outputs": [
    {
     "name": "stdout",
     "output_type": "stream",
     "text": [
      "Epoch 1 Train Loss: 1.9063\n",
      "\n",
      " Test Accuracy: 14.26%\n",
      "ank             | Pred: अंक                  | Truth: अंक\n",
      "anka            | Pred: अंका                 | Truth: अंक\n",
      "ankit           | Pred: अंकित                | Truth: अंकित\n",
      "anakon          | Pred: अनकों                | Truth: अंकों\n",
      "ankhon          | Pred: अंखों                | Truth: अंकों\n",
      "ankon           | Pred: अंकों                | Truth: अंकों\n",
      "angkor          | Pred: अंगोकर               | Truth: अंकोर\n",
      "ankor           | Pred: अंकर                 | Truth: अंकोर\n",
      "angaarak        | Pred: अंगारक               | Truth: अंगारक\n",
      "angarak         | Pred: अंगरक                | Truth: अंगारक\n",
      "Epoch 2 Train Loss: 1.0576\n",
      "\n",
      " Test Accuracy: 23.79%\n",
      "ank             | Pred: अंक                  | Truth: अंक\n",
      "anka            | Pred: अंका                 | Truth: अंक\n",
      "ankit           | Pred: अंकित                | Truth: अंकित\n",
      "anakon          | Pred: अनकों                | Truth: अंकों\n",
      "ankhon          | Pred: अंखों                | Truth: अंकों\n",
      "ankon           | Pred: अंकों                | Truth: अंकों\n",
      "angkor          | Pred: अंगकर                | Truth: अंकोर\n",
      "ankor           | Pred: अंकोर                | Truth: अंकोर\n",
      "angaarak        | Pred: अंगरक                | Truth: अंगारक\n",
      "angarak         | Pred: अंगरक                | Truth: अंगारक\n",
      "Epoch 3 Train Loss: 0.8511\n",
      "\n",
      " Test Accuracy: 27.50%\n",
      "ank             | Pred: अंक                  | Truth: अंक\n",
      "anka            | Pred: अंका                 | Truth: अंक\n",
      "ankit           | Pred: अनकित                | Truth: अंकित\n",
      "anakon          | Pred: अनकों                | Truth: अंकों\n",
      "ankhon          | Pred: अंखों                | Truth: अंकों\n",
      "ankon           | Pred: अंकों                | Truth: अंकों\n",
      "angkor          | Pred: एंगकोर               | Truth: अंकोर\n",
      "ankor           | Pred: अंकोर                | Truth: अंकोर\n",
      "angaarak        | Pred: अंगारक               | Truth: अंगारक\n",
      "angarak         | Pred: अंगरक                | Truth: अंगारक\n",
      "Epoch 4 Train Loss: 0.7406\n",
      "\n",
      " Test Accuracy: 30.76%\n",
      "ank             | Pred: अंक                  | Truth: अंक\n",
      "anka            | Pred: अंका                 | Truth: अंक\n",
      "ankit           | Pred: अंकित                | Truth: अंकित\n",
      "anakon          | Pred: अनकों                | Truth: अंकों\n",
      "ankhon          | Pred: अंखों                | Truth: अंकों\n",
      "ankon           | Pred: अंकों                | Truth: अंकों\n",
      "angkor          | Pred: अंगकोर               | Truth: अंकोर\n",
      "ankor           | Pred: अंकोर                | Truth: अंकोर\n",
      "angaarak        | Pred: अंगारक               | Truth: अंगारक\n",
      "angarak         | Pred: अंगरक                | Truth: अंगारक\n",
      "Epoch 5 Train Loss: 0.6723\n",
      "\n",
      " Test Accuracy: 31.27%\n",
      "ank             | Pred: एंक                  | Truth: अंक\n",
      "anka            | Pred: अंका                 | Truth: अंक\n",
      "ankit           | Pred: अनकीत                | Truth: अंकित\n",
      "anakon          | Pred: अनकों                | Truth: अंकों\n",
      "ankhon          | Pred: अंखों                | Truth: अंकों\n",
      "ankon           | Pred: अंकों                | Truth: अंकों\n",
      "angkor          | Pred: एंगकोर               | Truth: अंकोर\n",
      "ankor           | Pred: एनकोर                | Truth: अंकोर\n",
      "angaarak        | Pred: अंगरक                | Truth: अंगारक\n",
      "angarak         | Pred: अंगरक                | Truth: अंगारक\n",
      "Epoch 6 Train Loss: 0.6139\n",
      "\n",
      " Test Accuracy: 32.99%\n",
      "ank             | Pred: एंक                  | Truth: अंक\n",
      "anka            | Pred: अंका                 | Truth: अंक\n",
      "ankit           | Pred: अंकित                | Truth: अंकित\n",
      "anakon          | Pred: अनकों                | Truth: अंकों\n",
      "ankhon          | Pred: अंखों                | Truth: अंकों\n",
      "ankon           | Pred: अंकों                | Truth: अंकों\n",
      "angkor          | Pred: एंगकोर               | Truth: अंकोर\n",
      "ankor           | Pred: एंकोर                | Truth: अंकोर\n",
      "angaarak        | Pred: अंगारक               | Truth: अंगारक\n",
      "angarak         | Pred: अंगराक               | Truth: अंगारक\n",
      "Epoch 7 Train Loss: 0.5652\n",
      "\n",
      " Test Accuracy: 32.90%\n",
      "ank             | Pred: अंक                  | Truth: अंक\n",
      "anka            | Pred: अंका                 | Truth: अंक\n",
      "ankit           | Pred: अनकित                | Truth: अंकित\n",
      "anakon          | Pred: अनकों                | Truth: अंकों\n",
      "ankhon          | Pred: अंखों                | Truth: अंकों\n",
      "ankon           | Pred: अंकों                | Truth: अंकों\n",
      "angkor          | Pred: एंगकोर               | Truth: अंकोर\n",
      "ankor           | Pred: अंकोर                | Truth: अंकोर\n",
      "angaarak        | Pred: अंगारक               | Truth: अंगारक\n",
      "angarak         | Pred: अंगरक                | Truth: अंगारक\n",
      "Epoch 8 Train Loss: 0.5344\n",
      "\n",
      " Test Accuracy: 34.50%\n",
      "ank             | Pred: अंक                  | Truth: अंक\n",
      "anka            | Pred: अंका                 | Truth: अंक\n",
      "ankit           | Pred: अनकीत                | Truth: अंकित\n",
      "anakon          | Pred: अनाकों               | Truth: अंकों\n",
      "ankhon          | Pred: अनखों                | Truth: अंकों\n",
      "ankon           | Pred: अनकों                | Truth: अंकों\n",
      "angkor          | Pred: एंगकोर               | Truth: अंकोर\n",
      "ankor           | Pred: अनकोर                | Truth: अंकोर\n",
      "angaarak        | Pred: अंगारक               | Truth: अंगारक\n",
      "angarak         | Pred: अंगराक               | Truth: अंगारक\n",
      "Epoch 9 Train Loss: 0.5004\n",
      "\n",
      " Test Accuracy: 33.98%\n",
      "ank             | Pred: अंक                  | Truth: अंक\n",
      "anka            | Pred: अंका                 | Truth: अंक\n",
      "ankit           | Pred: अनकित                | Truth: अंकित\n",
      "anakon          | Pred: अनाकों               | Truth: अंकों\n",
      "ankhon          | Pred: अंखों                | Truth: अंकों\n",
      "ankon           | Pred: अंकों                | Truth: अंकों\n",
      "angkor          | Pred: अंगको                | Truth: अंकोर\n",
      "ankor           | Pred: अंकोर                | Truth: अंकोर\n",
      "angaarak        | Pred: अंगारक               | Truth: अंगारक\n",
      "angarak         | Pred: अंगारक               | Truth: अंगारक\n",
      "Epoch 10 Train Loss: 0.4723\n",
      "\n",
      " Test Accuracy: 31.10%\n",
      "ank             | Pred: एंक                  | Truth: अंक\n",
      "anka            | Pred: अंकाख                | Truth: अंक\n",
      "ankit           | Pred: अंकित                | Truth: अंकित\n",
      "anakon          | Pred: अनकों                | Truth: अंकों\n",
      "ankhon          | Pred: अंखों                | Truth: अंकों\n",
      "ankon           | Pred: अंकोंख               | Truth: अंकों\n",
      "angkor          | Pred: एंगकोर               | Truth: अंकोर\n",
      "ankor           | Pred: एंकरख                | Truth: अंकोर\n",
      "angaarak        | Pred: अंगारक               | Truth: अंगारक\n",
      "angarak         | Pred: अंगरक                | Truth: अंगारक\n",
      "\n",
      " Loading best model for final evaluation...\n",
      "\n",
      " Test Accuracy: 34.50%\n",
      "ank             | Pred: अंक                  | Truth: अंक\n",
      "anka            | Pred: अंका                 | Truth: अंक\n",
      "ankit           | Pred: अनकीत                | Truth: अंकित\n",
      "anakon          | Pred: अनाकों               | Truth: अंकों\n",
      "ankhon          | Pred: अनखों                | Truth: अंकों\n",
      "ankon           | Pred: अनकों                | Truth: अंकों\n",
      "angkor          | Pred: एंगकोर               | Truth: अंकोर\n",
      "ankor           | Pred: अनकोर                | Truth: अंकोर\n",
      "angaarak        | Pred: अंगारक               | Truth: अंगारक\n",
      "angarak         | Pred: अंगराक               | Truth: अंगारक\n",
      "\n",
      " Predictions saved to: test_predictions.csv\n"
     ]
    }
   ],
   "source": [
    "import torch\n",
    "import torch.nn as nn\n",
    "from torch.utils.data import DataLoader, Dataset\n",
    "import pandas as pd\n",
    "import csv\n",
    "\n",
    "# ---------------- Dataset & Utils ----------------\n",
    "class TransliterationDataset(Dataset):\n",
    "    def __init__(self, pairs, input_vocab, output_vocab):\n",
    "        self.pairs = pairs\n",
    "        self.input_vocab = input_vocab\n",
    "        self.output_vocab = output_vocab\n",
    "        self.sos = output_vocab['<sos>']\n",
    "        self.eos = output_vocab['<eos>']\n",
    "\n",
    "    def __len__(self):\n",
    "        return len(self.pairs)\n",
    "\n",
    "    def __getitem__(self, idx):\n",
    "        source, target = self.pairs[idx]\n",
    "        input_ids = [self.input_vocab[c] for c in source]\n",
    "        target_ids = [self.sos] + [self.output_vocab[c] for c in target] + [self.eos]\n",
    "        return torch.tensor(input_ids), torch.tensor(target_ids)\n",
    "\n",
    "def load_pairs(path):\n",
    "    df = pd.read_csv(path, sep='\\t', header=None, names=['target', 'source', 'count'], dtype=str)\n",
    "    df.dropna(subset=[\"source\", \"target\"], inplace=True)\n",
    "    return list(zip(df['source'], df['target']))\n",
    "\n",
    "def build_vocab(pairs):\n",
    "    input_chars = set()\n",
    "    output_chars = set()\n",
    "    for src, tgt in pairs:\n",
    "        input_chars.update(src)\n",
    "        output_chars.update(tgt)\n",
    "    input_vocab = {c: i+1 for i, c in enumerate(sorted(input_chars))}\n",
    "    input_vocab['<pad>'] = 0\n",
    "    output_vocab = {c: i+3 for i, c in enumerate(sorted(output_chars))}\n",
    "    output_vocab.update({'<pad>': 0, '<sos>': 1, '<eos>': 2})\n",
    "    return input_vocab, output_vocab\n",
    "\n",
    "def collate_fn(batch):\n",
    "    inputs, targets = zip(*batch)\n",
    "    input_lens = [len(x) for x in inputs]\n",
    "    target_lens = [len(x) for x in targets]\n",
    "    inputs_padded = nn.utils.rnn.pad_sequence(inputs, batch_first=True, padding_value=0)\n",
    "    targets_padded = nn.utils.rnn.pad_sequence(targets, batch_first=True, padding_value=0)\n",
    "    return inputs_padded, targets_padded, input_lens, target_lens\n",
    "\n",
    "# ---------------- Models ----------------\n",
    "class Encoder(nn.Module):\n",
    "    def __init__(self, input_size, embed_size, hidden_size, num_layers, cell_type, dropout):\n",
    "        super().__init__()\n",
    "        self.embedding = nn.Embedding(input_size, embed_size, padding_idx=0)\n",
    "        rnn_cls = {'RNN': nn.RNN, 'GRU': nn.GRU, 'LSTM': nn.LSTM}[cell_type]\n",
    "        self.rnn = rnn_cls(embed_size, hidden_size, num_layers, batch_first=True, dropout=dropout if num_layers > 1 else 0)\n",
    "\n",
    "    def forward(self, x, lengths):\n",
    "        embedded = self.embedding(x)\n",
    "        packed = nn.utils.rnn.pack_padded_sequence(embedded, lengths, batch_first=True, enforce_sorted=False)\n",
    "        outputs, hidden = self.rnn(packed)\n",
    "        return hidden\n",
    "\n",
    "class Decoder(nn.Module):\n",
    "    def __init__(self, output_size, embed_size, hidden_size, num_layers, cell_type, dropout):\n",
    "        super().__init__()\n",
    "        self.embedding = nn.Embedding(output_size, embed_size, padding_idx=0)\n",
    "        rnn_cls = {'RNN': nn.RNN, 'GRU': nn.GRU, 'LSTM': nn.LSTM}[cell_type]\n",
    "        self.rnn = rnn_cls(embed_size, hidden_size, num_layers, batch_first=True, dropout=dropout if num_layers > 1 else 0)\n",
    "        self.fc = nn.Linear(hidden_size, output_size)\n",
    "\n",
    "    def forward(self, token, hidden):\n",
    "        x = self.embedding(token.unsqueeze(1))\n",
    "        output, hidden = self.rnn(x, hidden)\n",
    "        output = self.fc(output.squeeze(1))\n",
    "        return output, hidden\n",
    "\n",
    "class Seq2Seq(nn.Module):\n",
    "    def __init__(self, encoder, decoder):\n",
    "        super().__init__()\n",
    "        self.encoder = encoder\n",
    "        self.decoder = decoder\n",
    "\n",
    "    def forward(self, src, src_lens, tgt=None, teacher_forcing_ratio=0.5):\n",
    "        batch_size = src.size(0)\n",
    "        hidden = self.encoder(src, src_lens)\n",
    "        tgt_len = tgt.size(1)\n",
    "        outputs = torch.zeros(batch_size, tgt_len, self.decoder.fc.out_features).to(src.device)\n",
    "        input_token = tgt[:, 0]\n",
    "        for t in range(1, tgt_len):\n",
    "            output, hidden = self.decoder(input_token, hidden)\n",
    "            outputs[:, t] = output\n",
    "            teacher_force = torch.rand(1).item() < teacher_forcing_ratio\n",
    "            input_token = tgt[:, t] if teacher_force else output.argmax(1)\n",
    "        return outputs\n",
    "\n",
    "# ---------------- Train + Eval ----------------\n",
    "def train_model(model, dataloader, optimizer, criterion, device):\n",
    "    model.train()\n",
    "    total_loss = 0\n",
    "    for src, tgt, src_lens, _ in dataloader:\n",
    "        src, tgt = src.to(device), tgt.to(device)\n",
    "        optimizer.zero_grad()\n",
    "        output = model(src, src_lens, tgt)\n",
    "        loss = criterion(output[:, 1:].reshape(-1, output.shape[-1]), tgt[:, 1:].reshape(-1))\n",
    "        loss.backward()\n",
    "        optimizer.step()\n",
    "        total_loss += loss.item()\n",
    "    return total_loss / len(dataloader)\n",
    "\n",
    "def evaluate_and_save(model, dataloader, input_vocab, output_vocab, device, csv_path=None):\n",
    "    model.eval()\n",
    "    inv_input_vocab = {v: k for k, v in input_vocab.items()}\n",
    "    inv_output_vocab = {v: k for k, v in output_vocab.items()}\n",
    "    correct = 0\n",
    "    total = 0\n",
    "    results = []\n",
    "\n",
    "    with torch.no_grad():\n",
    "        for src, tgt, src_lens, _ in dataloader:\n",
    "            src = src.to(device)\n",
    "            hidden = model.encoder(src, src_lens)\n",
    "            input_token = torch.tensor([output_vocab['<sos>']] * src.size(0)).to(device)\n",
    "            decoded = []\n",
    "            for _ in range(20):\n",
    "                output, hidden = model.decoder(input_token, hidden)\n",
    "                input_token = output.argmax(1)\n",
    "                decoded.append(input_token)\n",
    "            decoded = torch.stack(decoded, dim=1)\n",
    "\n",
    "            for i in range(src.size(0)):\n",
    "                pred = ''.join([inv_output_vocab[t.item()] for t in decoded[i] if t.item() not in [output_vocab['<eos>'], 0]])\n",
    "                truth = ''.join([inv_output_vocab[t.item()] for t in tgt[i][1:-1]])\n",
    "                inp = ''.join([inv_input_vocab[t.item()] for t in src[i] if t.item() != 0])\n",
    "                results.append((inp, pred, truth))\n",
    "                if pred == truth:\n",
    "                    correct += 1\n",
    "                total += 1\n",
    "\n",
    "    acc = correct / total * 100\n",
    "    print(f\"\\n Test Accuracy: {acc:.2f}%\")\n",
    "    for inp, pred, truth in results[:10]:\n",
    "        print(f\"{inp:<15} | Pred: {pred:<20} | Truth: {truth}\")\n",
    "\n",
    "    if csv_path is not None:\n",
    "        with open(csv_path, mode='w', newline='', encoding='utf-8') as f:\n",
    "            writer = csv.writer(f)\n",
    "            writer.writerow(['Input', 'Prediction', 'GroundTruth'])\n",
    "            writer.writerows(results)\n",
    "        print(f\"\\n Predictions saved to: {csv_path}\")\n",
    "\n",
    "    return acc, results\n",
    "\n",
    "\n",
    "# ---------------- Run ----------------\n",
    "if __name__ == \"__main__\":\n",
    "    config = {\n",
    "        \"embed_size\": 128,\n",
    "        \"hidden_size\": 128,\n",
    "        \"num_layers\": 2,\n",
    "        \"cell_type\": \"LSTM\",\n",
    "        \"dropout\": 0.2,\n",
    "        \"batch_size\": 64,\n",
    "        \"lr\": 0.0013206,\n",
    "        \"epochs\": 10,\n",
    "    }\n",
    "\n",
    "\n",
    "    device = torch.device(\"cuda\" if torch.cuda.is_available() else \"cpu\")\n",
    "    train_pairs = load_pairs(\"/kaggle/input/dakshina-dataset/dakshina_dataset_v1.0/hi/lexicons/hi.translit.sampled.train.tsv\")\n",
    "    test_pairs = load_pairs(\"/kaggle/input/dakshina-dataset/dakshina_dataset_v1.0/hi/lexicons/hi.translit.sampled.test.tsv\")\n",
    "    input_vocab, output_vocab = build_vocab(train_pairs)\n",
    "    train_dataset = TransliterationDataset(train_pairs, input_vocab, output_vocab)\n",
    "    test_dataset = TransliterationDataset(test_pairs, input_vocab, output_vocab)\n",
    "\n",
    "    train_loader = DataLoader(train_dataset, batch_size=config[\"batch_size\"], shuffle=True, collate_fn=collate_fn)\n",
    "    test_loader = DataLoader(test_dataset, batch_size=1, shuffle=False, collate_fn=collate_fn)\n",
    "\n",
    "    encoder = Encoder(len(input_vocab), config[\"embed_size\"], config[\"hidden_size\"],\n",
    "                      config[\"num_layers\"], config[\"cell_type\"], config[\"dropout\"])\n",
    "    decoder = Decoder(len(output_vocab), config[\"embed_size\"], config[\"hidden_size\"],\n",
    "                      config[\"num_layers\"], config[\"cell_type\"], config[\"dropout\"])\n",
    "    model = Seq2Seq(encoder, decoder).to(device)\n",
    "\n",
    "    optimizer = torch.optim.Adam(model.parameters(), lr=config[\"lr\"])\n",
    "    criterion = nn.CrossEntropyLoss(ignore_index=0)\n",
    "\n",
    "    best_acc = 0\n",
    "    for epoch in range(config[\"epochs\"]):\n",
    "        train_loss = train_model(model, train_loader, optimizer, criterion, device)\n",
    "        print(f\"Epoch {epoch+1} Train Loss: {train_loss:.4f}\")\n",
    "        acc, results = evaluate_and_save(model, test_loader, input_vocab, output_vocab, device, csv_path=None)\n",
    "        if acc > best_acc:\n",
    "            best_acc = acc\n",
    "            torch.save(model.state_dict(), \"best_model.pth\")\n",
    "\n",
    "    print(\"\\n Loading best model for final evaluation...\")\n",
    "    model.load_state_dict(torch.load(\"best_model.pth\"))\n",
    "\n",
    "    # Save predictions CSV here\n",
    "    evaluate_and_save(model, test_loader, input_vocab, output_vocab, device, csv_path=\"test_predictions.csv\")"
   ]
  }
 ],
 "metadata": {
  "kaggle": {
   "accelerator": "nvidiaTeslaT4",
   "dataSources": [
    {
     "datasetId": 7434963,
     "sourceId": 11834448,
     "sourceType": "datasetVersion"
    }
   ],
   "dockerImageVersionId": 31041,
   "isGpuEnabled": true,
   "isInternetEnabled": true,
   "language": "python",
   "sourceType": "notebook"
  },
  "kernelspec": {
   "display_name": "Python 3",
   "language": "python",
   "name": "python3"
  },
  "language_info": {
   "codemirror_mode": {
    "name": "ipython",
    "version": 3
   },
   "file_extension": ".py",
   "mimetype": "text/x-python",
   "name": "python",
   "nbconvert_exporter": "python",
   "pygments_lexer": "ipython3",
   "version": "3.11.11"
  }
 },
 "nbformat": 4,
 "nbformat_minor": 4
}
